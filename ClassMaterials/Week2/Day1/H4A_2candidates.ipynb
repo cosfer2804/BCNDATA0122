{
 "cells": [
  {
   "cell_type": "markdown",
   "id": "b5c12a50",
   "metadata": {},
   "source": [
    "# Healthcare for all scenario - 2 candidates\n",
    "\n",
    "### Objective \n",
    "\n",
    "In this notebook I will attempt to predict the target_d donation amount, on the healthcare for all data, using linear regression \n",
    "\n",
    "I will prepare 2 candidate models "
   ]
  },
  {
   "cell_type": "markdown",
   "id": "63fb39df",
   "metadata": {},
   "source": [
    "## get data\n",
    "\n",
    "- note the first couple of cells, I am moving around inside my computer to retrieve the data "
   ]
  },
  {
   "cell_type": "code",
   "execution_count": 222,
   "id": "df4d6b01",
   "metadata": {},
   "outputs": [
    {
     "name": "stdout",
     "output_type": "stream",
     "text": [
      "/Users/siandavies/Documents/GitHub/BCNDATA0122/ClassMaterials/Week2/Day1\r\n"
     ]
    }
   ],
   "source": [
    "!pwd"
   ]
  },
  {
   "cell_type": "code",
   "execution_count": 223,
   "id": "93e6f943",
   "metadata": {},
   "outputs": [
    {
     "name": "stdout",
     "output_type": "stream",
     "text": [
      "H4A_2candidates.ipynb            \u001b[34mdata for class\u001b[m\u001b[m\r\n",
      "ML thought helper end to end.pdf merged_healthcare.csv\r\n",
      "SWOT template.docx\r\n"
     ]
    }
   ],
   "source": [
    "!ls"
   ]
  },
  {
   "cell_type": "code",
   "execution_count": 224,
   "id": "b06b6b0b",
   "metadata": {},
   "outputs": [],
   "source": [
    "#cd .."
   ]
  },
  {
   "cell_type": "code",
   "execution_count": 225,
   "id": "c3d0718f",
   "metadata": {},
   "outputs": [],
   "source": [
    "import numpy as np \n",
    "import pandas as pd \n",
    "import warnings\n",
    "warnings.simplefilter(action='ignore')"
   ]
  },
  {
   "cell_type": "code",
   "execution_count": 226,
   "id": "fa2c24d0",
   "metadata": {},
   "outputs": [],
   "source": [
    "file1=pd.read_csv('data for class/file1.csv')"
   ]
  },
  {
   "cell_type": "code",
   "execution_count": 227,
   "id": "2915afe0",
   "metadata": {},
   "outputs": [],
   "source": [
    "file2=pd.read_csv('data for class/file2.txt',sep='\\t')"
   ]
  },
  {
   "cell_type": "code",
   "execution_count": 228,
   "id": "8c7eecca",
   "metadata": {},
   "outputs": [],
   "source": [
    "file3=pd.read_excel('data for class/file3.xlsx')"
   ]
  },
  {
   "cell_type": "code",
   "execution_count": 229,
   "id": "11aff5a0",
   "metadata": {},
   "outputs": [],
   "source": [
    "file4=pd.read_excel('data for class/file4.xlsx')"
   ]
  },
  {
   "cell_type": "markdown",
   "id": "a4cf4ace",
   "metadata": {},
   "source": [
    "## merge data frames "
   ]
  },
  {
   "cell_type": "code",
   "execution_count": 230,
   "id": "e2f235a9",
   "metadata": {},
   "outputs": [],
   "source": [
    "data=pd.concat([file1,file2,file3,file4],axis=0)"
   ]
  },
  {
   "cell_type": "code",
   "execution_count": 231,
   "id": "19ea35b6",
   "metadata": {},
   "outputs": [
    {
     "data": {
      "text/html": [
       "<div>\n",
       "<style scoped>\n",
       "    .dataframe tbody tr th:only-of-type {\n",
       "        vertical-align: middle;\n",
       "    }\n",
       "\n",
       "    .dataframe tbody tr th {\n",
       "        vertical-align: top;\n",
       "    }\n",
       "\n",
       "    .dataframe thead th {\n",
       "        text-align: right;\n",
       "    }\n",
       "</style>\n",
       "<table border=\"1\" class=\"dataframe\">\n",
       "  <thead>\n",
       "    <tr style=\"text-align: right;\">\n",
       "      <th></th>\n",
       "      <th>CONTROLN</th>\n",
       "      <th>STATE</th>\n",
       "      <th>GENDER</th>\n",
       "      <th>HV1</th>\n",
       "      <th>IC1</th>\n",
       "      <th>IC4</th>\n",
       "      <th>HVP1</th>\n",
       "      <th>IC5</th>\n",
       "      <th>POBC1</th>\n",
       "      <th>POBC2</th>\n",
       "      <th>IC2</th>\n",
       "      <th>IC3</th>\n",
       "      <th>AVGGIFT</th>\n",
       "      <th>TCODE</th>\n",
       "      <th>DOB</th>\n",
       "      <th>DOMAIN</th>\n",
       "      <th>TARGET_D</th>\n",
       "    </tr>\n",
       "  </thead>\n",
       "  <tbody>\n",
       "    <tr>\n",
       "      <th>0</th>\n",
       "      <td>44060</td>\n",
       "      <td>FL</td>\n",
       "      <td>M</td>\n",
       "      <td>AAA896</td>\n",
       "      <td>392</td>\n",
       "      <td>520.0</td>\n",
       "      <td>7</td>\n",
       "      <td>21975</td>\n",
       "      <td>6</td>\n",
       "      <td>16</td>\n",
       "      <td>430.0</td>\n",
       "      <td>466</td>\n",
       "      <td>28.000000</td>\n",
       "      <td>1</td>\n",
       "      <td>1901</td>\n",
       "      <td>C2</td>\n",
       "      <td>100.0</td>\n",
       "    </tr>\n",
       "    <tr>\n",
       "      <th>1</th>\n",
       "      <td>96093</td>\n",
       "      <td>IL</td>\n",
       "      <td>M</td>\n",
       "      <td>537.00</td>\n",
       "      <td>365</td>\n",
       "      <td>473.0</td>\n",
       "      <td>0</td>\n",
       "      <td>19387</td>\n",
       "      <td>1</td>\n",
       "      <td>89</td>\n",
       "      <td>415.0</td>\n",
       "      <td>410</td>\n",
       "      <td>5.666667</td>\n",
       "      <td>0</td>\n",
       "      <td>0</td>\n",
       "      <td>T2</td>\n",
       "      <td>7.0</td>\n",
       "    </tr>\n",
       "    <tr>\n",
       "      <th>2</th>\n",
       "      <td>43333</td>\n",
       "      <td>FL</td>\n",
       "      <td>F</td>\n",
       "      <td>725.00</td>\n",
       "      <td>301</td>\n",
       "      <td>436.0</td>\n",
       "      <td>3</td>\n",
       "      <td>18837</td>\n",
       "      <td>11</td>\n",
       "      <td>17</td>\n",
       "      <td>340.0</td>\n",
       "      <td>361</td>\n",
       "      <td>4.111111</td>\n",
       "      <td>0</td>\n",
       "      <td>2501</td>\n",
       "      <td>C2</td>\n",
       "      <td>5.0</td>\n",
       "    </tr>\n",
       "    <tr>\n",
       "      <th>3</th>\n",
       "      <td>21885</td>\n",
       "      <td>NC</td>\n",
       "      <td>M</td>\n",
       "      <td>AAA1095</td>\n",
       "      <td>401</td>\n",
       "      <td>413.0</td>\n",
       "      <td>7</td>\n",
       "      <td>14014</td>\n",
       "      <td>1</td>\n",
       "      <td>74</td>\n",
       "      <td>407.0</td>\n",
       "      <td>399</td>\n",
       "      <td>27.277778</td>\n",
       "      <td>0</td>\n",
       "      <td>2208</td>\n",
       "      <td>T2</td>\n",
       "      <td>38.0</td>\n",
       "    </tr>\n",
       "    <tr>\n",
       "      <th>4</th>\n",
       "      <td>190108</td>\n",
       "      <td>FL</td>\n",
       "      <td>F</td>\n",
       "      <td>995.00</td>\n",
       "      <td>252</td>\n",
       "      <td>348.0</td>\n",
       "      <td>0</td>\n",
       "      <td>17991</td>\n",
       "      <td>5</td>\n",
       "      <td>6</td>\n",
       "      <td>280.0</td>\n",
       "      <td>316</td>\n",
       "      <td>6.000000</td>\n",
       "      <td>28</td>\n",
       "      <td>0</td>\n",
       "      <td>C2</td>\n",
       "      <td>5.0</td>\n",
       "    </tr>\n",
       "  </tbody>\n",
       "</table>\n",
       "</div>"
      ],
      "text/plain": [
       "   CONTROLN STATE GENDER      HV1  IC1    IC4  HVP1    IC5  POBC1  POBC2  \\\n",
       "0     44060    FL      M   AAA896  392  520.0     7  21975      6     16   \n",
       "1     96093    IL      M   537.00  365  473.0     0  19387      1     89   \n",
       "2     43333    FL      F   725.00  301  436.0     3  18837     11     17   \n",
       "3     21885    NC      M  AAA1095  401  413.0     7  14014      1     74   \n",
       "4    190108    FL      F   995.00  252  348.0     0  17991      5      6   \n",
       "\n",
       "     IC2  IC3    AVGGIFT  TCODE   DOB DOMAIN  TARGET_D  \n",
       "0  430.0  466  28.000000      1  1901     C2     100.0  \n",
       "1  415.0  410   5.666667      0     0     T2       7.0  \n",
       "2  340.0  361   4.111111      0  2501     C2       5.0  \n",
       "3  407.0  399  27.277778      0  2208     T2      38.0  \n",
       "4  280.0  316   6.000000     28     0     C2       5.0  "
      ]
     },
     "execution_count": 231,
     "metadata": {},
     "output_type": "execute_result"
    }
   ],
   "source": [
    "data.head()"
   ]
  },
  {
   "cell_type": "code",
   "execution_count": 232,
   "id": "da1be512",
   "metadata": {},
   "outputs": [
    {
     "name": "stdout",
     "output_type": "stream",
     "text": [
      "<class 'pandas.core.frame.DataFrame'>\n",
      "Int64Index: 4028 entries, 0 to 1005\n",
      "Data columns (total 17 columns):\n",
      " #   Column    Non-Null Count  Dtype  \n",
      "---  ------    --------------  -----  \n",
      " 0   CONTROLN  4028 non-null   int64  \n",
      " 1   STATE     4028 non-null   object \n",
      " 2   GENDER    3892 non-null   object \n",
      " 3   HV1       4026 non-null   object \n",
      " 4   IC1       4028 non-null   int64  \n",
      " 5   IC4       4027 non-null   float64\n",
      " 6   HVP1      4028 non-null   int64  \n",
      " 7   IC5       4028 non-null   object \n",
      " 8   POBC1     4028 non-null   int64  \n",
      " 9   POBC2     4028 non-null   int64  \n",
      " 10  IC2       4027 non-null   float64\n",
      " 11  IC3       4028 non-null   int64  \n",
      " 12  AVGGIFT   4028 non-null   float64\n",
      " 13  TCODE     4028 non-null   int64  \n",
      " 14  DOB       4028 non-null   int64  \n",
      " 15  DOMAIN    4028 non-null   object \n",
      " 16  TARGET_D  4028 non-null   float64\n",
      "dtypes: float64(4), int64(8), object(5)\n",
      "memory usage: 566.4+ KB\n"
     ]
    }
   ],
   "source": [
    "data.info()"
   ]
  },
  {
   "cell_type": "code",
   "execution_count": 233,
   "id": "d9bc5740",
   "metadata": {},
   "outputs": [],
   "source": [
    "# reset the index because it has been truncated in the concat() \n",
    "data.reset_index(drop=True, inplace=True)"
   ]
  },
  {
   "cell_type": "markdown",
   "id": "5916a97a",
   "metadata": {},
   "source": [
    "## Check the basics with describe, info"
   ]
  },
  {
   "cell_type": "code",
   "execution_count": 234,
   "id": "393f90da",
   "metadata": {},
   "outputs": [
    {
     "data": {
      "text/html": [
       "<div>\n",
       "<style scoped>\n",
       "    .dataframe tbody tr th:only-of-type {\n",
       "        vertical-align: middle;\n",
       "    }\n",
       "\n",
       "    .dataframe tbody tr th {\n",
       "        vertical-align: top;\n",
       "    }\n",
       "\n",
       "    .dataframe thead th {\n",
       "        text-align: right;\n",
       "    }\n",
       "</style>\n",
       "<table border=\"1\" class=\"dataframe\">\n",
       "  <thead>\n",
       "    <tr style=\"text-align: right;\">\n",
       "      <th></th>\n",
       "      <th>CONTROLN</th>\n",
       "      <th>IC1</th>\n",
       "      <th>IC4</th>\n",
       "      <th>HVP1</th>\n",
       "      <th>POBC1</th>\n",
       "      <th>POBC2</th>\n",
       "      <th>IC2</th>\n",
       "      <th>IC3</th>\n",
       "      <th>AVGGIFT</th>\n",
       "      <th>TCODE</th>\n",
       "      <th>DOB</th>\n",
       "      <th>TARGET_D</th>\n",
       "    </tr>\n",
       "  </thead>\n",
       "  <tbody>\n",
       "    <tr>\n",
       "      <th>count</th>\n",
       "      <td>4028.000000</td>\n",
       "      <td>4028.000000</td>\n",
       "      <td>4027.000000</td>\n",
       "      <td>4028.000000</td>\n",
       "      <td>4028.000000</td>\n",
       "      <td>4028.000000</td>\n",
       "      <td>4027.000000</td>\n",
       "      <td>4028.000000</td>\n",
       "      <td>4028.000000</td>\n",
       "      <td>4028.000000</td>\n",
       "      <td>4028.000000</td>\n",
       "      <td>4028.000000</td>\n",
       "    </tr>\n",
       "    <tr>\n",
       "      <th>mean</th>\n",
       "      <td>99028.898709</td>\n",
       "      <td>351.569265</td>\n",
       "      <td>444.664515</td>\n",
       "      <td>15.961519</td>\n",
       "      <td>6.878848</td>\n",
       "      <td>55.476167</td>\n",
       "      <td>400.639930</td>\n",
       "      <td>399.788232</td>\n",
       "      <td>11.771435</td>\n",
       "      <td>76.294439</td>\n",
       "      <td>2708.451092</td>\n",
       "      <td>15.645603</td>\n",
       "    </tr>\n",
       "    <tr>\n",
       "      <th>std</th>\n",
       "      <td>58176.975019</td>\n",
       "      <td>168.316241</td>\n",
       "      <td>174.857272</td>\n",
       "      <td>28.841221</td>\n",
       "      <td>9.513976</td>\n",
       "      <td>21.510554</td>\n",
       "      <td>180.377938</td>\n",
       "      <td>164.702061</td>\n",
       "      <td>10.136313</td>\n",
       "      <td>1189.959757</td>\n",
       "      <td>2054.519861</td>\n",
       "      <td>12.672374</td>\n",
       "    </tr>\n",
       "    <tr>\n",
       "      <th>min</th>\n",
       "      <td>12.000000</td>\n",
       "      <td>0.000000</td>\n",
       "      <td>0.000000</td>\n",
       "      <td>0.000000</td>\n",
       "      <td>0.000000</td>\n",
       "      <td>0.000000</td>\n",
       "      <td>0.000000</td>\n",
       "      <td>0.000000</td>\n",
       "      <td>2.260870</td>\n",
       "      <td>0.000000</td>\n",
       "      <td>0.000000</td>\n",
       "      <td>1.000000</td>\n",
       "    </tr>\n",
       "    <tr>\n",
       "      <th>25%</th>\n",
       "      <td>46162.000000</td>\n",
       "      <td>239.000000</td>\n",
       "      <td>325.000000</td>\n",
       "      <td>0.000000</td>\n",
       "      <td>1.000000</td>\n",
       "      <td>41.000000</td>\n",
       "      <td>284.000000</td>\n",
       "      <td>287.000000</td>\n",
       "      <td>7.181818</td>\n",
       "      <td>0.000000</td>\n",
       "      <td>609.750000</td>\n",
       "      <td>10.000000</td>\n",
       "    </tr>\n",
       "    <tr>\n",
       "      <th>50%</th>\n",
       "      <td>101669.000000</td>\n",
       "      <td>318.000000</td>\n",
       "      <td>410.000000</td>\n",
       "      <td>1.000000</td>\n",
       "      <td>4.000000</td>\n",
       "      <td>57.000000</td>\n",
       "      <td>366.000000</td>\n",
       "      <td>365.000000</td>\n",
       "      <td>10.000000</td>\n",
       "      <td>1.000000</td>\n",
       "      <td>2656.500000</td>\n",
       "      <td>13.460000</td>\n",
       "    </tr>\n",
       "    <tr>\n",
       "      <th>75%</th>\n",
       "      <td>151683.000000</td>\n",
       "      <td>425.000000</td>\n",
       "      <td>528.000000</td>\n",
       "      <td>14.000000</td>\n",
       "      <td>9.000000</td>\n",
       "      <td>73.000000</td>\n",
       "      <td>477.000000</td>\n",
       "      <td>479.250000</td>\n",
       "      <td>14.388462</td>\n",
       "      <td>2.000000</td>\n",
       "      <td>4401.000000</td>\n",
       "      <td>20.000000</td>\n",
       "    </tr>\n",
       "    <tr>\n",
       "      <th>max</th>\n",
       "      <td>191779.000000</td>\n",
       "      <td>1500.000000</td>\n",
       "      <td>1331.000000</td>\n",
       "      <td>99.000000</td>\n",
       "      <td>79.000000</td>\n",
       "      <td>99.000000</td>\n",
       "      <td>1500.000000</td>\n",
       "      <td>1311.000000</td>\n",
       "      <td>450.000000</td>\n",
       "      <td>39002.000000</td>\n",
       "      <td>9310.000000</td>\n",
       "      <td>200.000000</td>\n",
       "    </tr>\n",
       "  </tbody>\n",
       "</table>\n",
       "</div>"
      ],
      "text/plain": [
       "            CONTROLN          IC1          IC4         HVP1        POBC1  \\\n",
       "count    4028.000000  4028.000000  4027.000000  4028.000000  4028.000000   \n",
       "mean    99028.898709   351.569265   444.664515    15.961519     6.878848   \n",
       "std     58176.975019   168.316241   174.857272    28.841221     9.513976   \n",
       "min        12.000000     0.000000     0.000000     0.000000     0.000000   \n",
       "25%     46162.000000   239.000000   325.000000     0.000000     1.000000   \n",
       "50%    101669.000000   318.000000   410.000000     1.000000     4.000000   \n",
       "75%    151683.000000   425.000000   528.000000    14.000000     9.000000   \n",
       "max    191779.000000  1500.000000  1331.000000    99.000000    79.000000   \n",
       "\n",
       "             POBC2          IC2          IC3      AVGGIFT         TCODE  \\\n",
       "count  4028.000000  4027.000000  4028.000000  4028.000000   4028.000000   \n",
       "mean     55.476167   400.639930   399.788232    11.771435     76.294439   \n",
       "std      21.510554   180.377938   164.702061    10.136313   1189.959757   \n",
       "min       0.000000     0.000000     0.000000     2.260870      0.000000   \n",
       "25%      41.000000   284.000000   287.000000     7.181818      0.000000   \n",
       "50%      57.000000   366.000000   365.000000    10.000000      1.000000   \n",
       "75%      73.000000   477.000000   479.250000    14.388462      2.000000   \n",
       "max      99.000000  1500.000000  1311.000000   450.000000  39002.000000   \n",
       "\n",
       "               DOB     TARGET_D  \n",
       "count  4028.000000  4028.000000  \n",
       "mean   2708.451092    15.645603  \n",
       "std    2054.519861    12.672374  \n",
       "min       0.000000     1.000000  \n",
       "25%     609.750000    10.000000  \n",
       "50%    2656.500000    13.460000  \n",
       "75%    4401.000000    20.000000  \n",
       "max    9310.000000   200.000000  "
      ]
     },
     "execution_count": 234,
     "metadata": {},
     "output_type": "execute_result"
    }
   ],
   "source": [
    "data.describe()"
   ]
  },
  {
   "cell_type": "code",
   "execution_count": 235,
   "id": "ac07655d",
   "metadata": {},
   "outputs": [
    {
     "name": "stdout",
     "output_type": "stream",
     "text": [
      "<class 'pandas.core.frame.DataFrame'>\n",
      "RangeIndex: 4028 entries, 0 to 4027\n",
      "Data columns (total 17 columns):\n",
      " #   Column    Non-Null Count  Dtype  \n",
      "---  ------    --------------  -----  \n",
      " 0   CONTROLN  4028 non-null   int64  \n",
      " 1   STATE     4028 non-null   object \n",
      " 2   GENDER    3892 non-null   object \n",
      " 3   HV1       4026 non-null   object \n",
      " 4   IC1       4028 non-null   int64  \n",
      " 5   IC4       4027 non-null   float64\n",
      " 6   HVP1      4028 non-null   int64  \n",
      " 7   IC5       4028 non-null   object \n",
      " 8   POBC1     4028 non-null   int64  \n",
      " 9   POBC2     4028 non-null   int64  \n",
      " 10  IC2       4027 non-null   float64\n",
      " 11  IC3       4028 non-null   int64  \n",
      " 12  AVGGIFT   4028 non-null   float64\n",
      " 13  TCODE     4028 non-null   int64  \n",
      " 14  DOB       4028 non-null   int64  \n",
      " 15  DOMAIN    4028 non-null   object \n",
      " 16  TARGET_D  4028 non-null   float64\n",
      "dtypes: float64(4), int64(8), object(5)\n",
      "memory usage: 535.1+ KB\n"
     ]
    }
   ],
   "source": [
    "data.info()"
   ]
  },
  {
   "cell_type": "markdown",
   "id": "89edb81a",
   "metadata": {},
   "source": [
    "## Basic Cleaning steps "
   ]
  },
  {
   "cell_type": "markdown",
   "id": "c257dc84",
   "metadata": {},
   "source": [
    "### drop or replace nulls "
   ]
  },
  {
   "cell_type": "code",
   "execution_count": 236,
   "id": "6953d465",
   "metadata": {},
   "outputs": [],
   "source": [
    "#most nulls are on gender - lets do a replace \n",
    "data['GENDER']= data['GENDER'].fillna(\"Unknown\")"
   ]
  },
  {
   "cell_type": "code",
   "execution_count": 237,
   "id": "e9aab0e1",
   "metadata": {},
   "outputs": [],
   "source": [
    "#only a small number of remaining nulls - lets drop \n",
    "data=data.dropna()"
   ]
  },
  {
   "cell_type": "code",
   "execution_count": 238,
   "id": "047375cc",
   "metadata": {},
   "outputs": [],
   "source": [
    "data.reset_index(drop=True, inplace=True)"
   ]
  },
  {
   "cell_type": "code",
   "execution_count": 239,
   "id": "fddcb305",
   "metadata": {},
   "outputs": [
    {
     "name": "stdout",
     "output_type": "stream",
     "text": [
      "<class 'pandas.core.frame.DataFrame'>\n",
      "RangeIndex: 4024 entries, 0 to 4023\n",
      "Data columns (total 17 columns):\n",
      " #   Column    Non-Null Count  Dtype  \n",
      "---  ------    --------------  -----  \n",
      " 0   CONTROLN  4024 non-null   int64  \n",
      " 1   STATE     4024 non-null   object \n",
      " 2   GENDER    4024 non-null   object \n",
      " 3   HV1       4024 non-null   object \n",
      " 4   IC1       4024 non-null   int64  \n",
      " 5   IC4       4024 non-null   float64\n",
      " 6   HVP1      4024 non-null   int64  \n",
      " 7   IC5       4024 non-null   object \n",
      " 8   POBC1     4024 non-null   int64  \n",
      " 9   POBC2     4024 non-null   int64  \n",
      " 10  IC2       4024 non-null   float64\n",
      " 11  IC3       4024 non-null   int64  \n",
      " 12  AVGGIFT   4024 non-null   float64\n",
      " 13  TCODE     4024 non-null   int64  \n",
      " 14  DOB       4024 non-null   int64  \n",
      " 15  DOMAIN    4024 non-null   object \n",
      " 16  TARGET_D  4024 non-null   float64\n",
      "dtypes: float64(4), int64(8), object(5)\n",
      "memory usage: 534.6+ KB\n"
     ]
    }
   ],
   "source": [
    "data.info()"
   ]
  },
  {
   "cell_type": "markdown",
   "id": "691a52f3",
   "metadata": {},
   "source": [
    "## More advanced cleaning steps "
   ]
  },
  {
   "cell_type": "markdown",
   "id": "726cca18",
   "metadata": {},
   "source": [
    "### managing columns "
   ]
  },
  {
   "cell_type": "code",
   "execution_count": 240,
   "id": "9d4d89f9",
   "metadata": {},
   "outputs": [
    {
     "data": {
      "text/plain": [
       "Index(['CONTROLN', 'STATE', 'GENDER', 'HV1', 'IC1', 'IC4', 'HVP1', 'IC5',\n",
       "       'POBC1', 'POBC2', 'IC2', 'IC3', 'AVGGIFT', 'TCODE', 'DOB', 'DOMAIN',\n",
       "       'TARGET_D'],\n",
       "      dtype='object')"
      ]
     },
     "execution_count": 240,
     "metadata": {},
     "output_type": "execute_result"
    }
   ],
   "source": [
    "data.columns"
   ]
  },
  {
   "cell_type": "code",
   "execution_count": 241,
   "id": "b95d20e5",
   "metadata": {},
   "outputs": [],
   "source": [
    "#standardise columns - set up list to collect lower case column names and iterate \n",
    "cols=[]\n",
    "for i in range(len(data.columns)):\n",
    "    cols.append(data.columns[i].lower())"
   ]
  },
  {
   "cell_type": "code",
   "execution_count": 242,
   "id": "00636069",
   "metadata": {},
   "outputs": [],
   "source": [
    "#replace the columns by position \n",
    "data.columns=cols"
   ]
  },
  {
   "cell_type": "code",
   "execution_count": 243,
   "id": "40f90be3",
   "metadata": {},
   "outputs": [
    {
     "data": {
      "text/plain": [
       "Index(['controln', 'state', 'gender', 'hv1', 'ic1', 'ic4', 'hvp1', 'ic5',\n",
       "       'pobc1', 'pobc2', 'ic2', 'ic3', 'avggift', 'tcode', 'dob', 'domain',\n",
       "       'target_d'],\n",
       "      dtype='object')"
      ]
     },
     "execution_count": 243,
     "metadata": {},
     "output_type": "execute_result"
    }
   ],
   "source": [
    "#new columns \n",
    "data.columns"
   ]
  },
  {
   "cell_type": "code",
   "execution_count": 244,
   "id": "537c534e",
   "metadata": {},
   "outputs": [],
   "source": [
    "# column rename \n",
    "new_names={'hv1':'medianhv','ic5':'percapita'}"
   ]
  },
  {
   "cell_type": "code",
   "execution_count": 245,
   "id": "d6b4e050",
   "metadata": {},
   "outputs": [],
   "source": [
    "data.rename(columns=new_names,inplace=True)"
   ]
  },
  {
   "cell_type": "code",
   "execution_count": 246,
   "id": "82d82212",
   "metadata": {},
   "outputs": [],
   "source": [
    "# IF you needed to - drop a couple of columns using drop()\n",
    "data=data.drop(['controln','pobc2'],axis=1)"
   ]
  },
  {
   "cell_type": "code",
   "execution_count": 247,
   "id": "f7ae1601",
   "metadata": {},
   "outputs": [
    {
     "data": {
      "text/html": [
       "<div>\n",
       "<style scoped>\n",
       "    .dataframe tbody tr th:only-of-type {\n",
       "        vertical-align: middle;\n",
       "    }\n",
       "\n",
       "    .dataframe tbody tr th {\n",
       "        vertical-align: top;\n",
       "    }\n",
       "\n",
       "    .dataframe thead th {\n",
       "        text-align: right;\n",
       "    }\n",
       "</style>\n",
       "<table border=\"1\" class=\"dataframe\">\n",
       "  <thead>\n",
       "    <tr style=\"text-align: right;\">\n",
       "      <th></th>\n",
       "      <th>state</th>\n",
       "      <th>gender</th>\n",
       "      <th>medianhv</th>\n",
       "      <th>ic1</th>\n",
       "      <th>ic4</th>\n",
       "      <th>hvp1</th>\n",
       "      <th>percapita</th>\n",
       "      <th>pobc1</th>\n",
       "      <th>ic2</th>\n",
       "      <th>ic3</th>\n",
       "      <th>avggift</th>\n",
       "      <th>tcode</th>\n",
       "      <th>dob</th>\n",
       "      <th>domain</th>\n",
       "      <th>target_d</th>\n",
       "    </tr>\n",
       "  </thead>\n",
       "  <tbody>\n",
       "    <tr>\n",
       "      <th>0</th>\n",
       "      <td>FL</td>\n",
       "      <td>M</td>\n",
       "      <td>AAA896</td>\n",
       "      <td>392</td>\n",
       "      <td>520.0</td>\n",
       "      <td>7</td>\n",
       "      <td>21975</td>\n",
       "      <td>6</td>\n",
       "      <td>430.0</td>\n",
       "      <td>466</td>\n",
       "      <td>28.000000</td>\n",
       "      <td>1</td>\n",
       "      <td>1901</td>\n",
       "      <td>C2</td>\n",
       "      <td>100.0</td>\n",
       "    </tr>\n",
       "    <tr>\n",
       "      <th>1</th>\n",
       "      <td>IL</td>\n",
       "      <td>M</td>\n",
       "      <td>537.00</td>\n",
       "      <td>365</td>\n",
       "      <td>473.0</td>\n",
       "      <td>0</td>\n",
       "      <td>19387</td>\n",
       "      <td>1</td>\n",
       "      <td>415.0</td>\n",
       "      <td>410</td>\n",
       "      <td>5.666667</td>\n",
       "      <td>0</td>\n",
       "      <td>0</td>\n",
       "      <td>T2</td>\n",
       "      <td>7.0</td>\n",
       "    </tr>\n",
       "    <tr>\n",
       "      <th>2</th>\n",
       "      <td>FL</td>\n",
       "      <td>F</td>\n",
       "      <td>725.00</td>\n",
       "      <td>301</td>\n",
       "      <td>436.0</td>\n",
       "      <td>3</td>\n",
       "      <td>18837</td>\n",
       "      <td>11</td>\n",
       "      <td>340.0</td>\n",
       "      <td>361</td>\n",
       "      <td>4.111111</td>\n",
       "      <td>0</td>\n",
       "      <td>2501</td>\n",
       "      <td>C2</td>\n",
       "      <td>5.0</td>\n",
       "    </tr>\n",
       "    <tr>\n",
       "      <th>3</th>\n",
       "      <td>NC</td>\n",
       "      <td>M</td>\n",
       "      <td>AAA1095</td>\n",
       "      <td>401</td>\n",
       "      <td>413.0</td>\n",
       "      <td>7</td>\n",
       "      <td>14014</td>\n",
       "      <td>1</td>\n",
       "      <td>407.0</td>\n",
       "      <td>399</td>\n",
       "      <td>27.277778</td>\n",
       "      <td>0</td>\n",
       "      <td>2208</td>\n",
       "      <td>T2</td>\n",
       "      <td>38.0</td>\n",
       "    </tr>\n",
       "    <tr>\n",
       "      <th>4</th>\n",
       "      <td>FL</td>\n",
       "      <td>F</td>\n",
       "      <td>995.00</td>\n",
       "      <td>252</td>\n",
       "      <td>348.0</td>\n",
       "      <td>0</td>\n",
       "      <td>17991</td>\n",
       "      <td>5</td>\n",
       "      <td>280.0</td>\n",
       "      <td>316</td>\n",
       "      <td>6.000000</td>\n",
       "      <td>28</td>\n",
       "      <td>0</td>\n",
       "      <td>C2</td>\n",
       "      <td>5.0</td>\n",
       "    </tr>\n",
       "  </tbody>\n",
       "</table>\n",
       "</div>"
      ],
      "text/plain": [
       "  state gender medianhv  ic1    ic4  hvp1 percapita  pobc1    ic2  ic3  \\\n",
       "0    FL      M   AAA896  392  520.0     7     21975      6  430.0  466   \n",
       "1    IL      M   537.00  365  473.0     0     19387      1  415.0  410   \n",
       "2    FL      F   725.00  301  436.0     3     18837     11  340.0  361   \n",
       "3    NC      M  AAA1095  401  413.0     7     14014      1  407.0  399   \n",
       "4    FL      F   995.00  252  348.0     0     17991      5  280.0  316   \n",
       "\n",
       "     avggift  tcode   dob domain  target_d  \n",
       "0  28.000000      1  1901     C2     100.0  \n",
       "1   5.666667      0     0     T2       7.0  \n",
       "2   4.111111      0  2501     C2       5.0  \n",
       "3  27.277778      0  2208     T2      38.0  \n",
       "4   6.000000     28     0     C2       5.0  "
      ]
     },
     "execution_count": 247,
     "metadata": {},
     "output_type": "execute_result"
    }
   ],
   "source": [
    "data.head()"
   ]
  },
  {
   "cell_type": "markdown",
   "id": "88899c75",
   "metadata": {},
   "source": [
    "### Data types"
   ]
  },
  {
   "cell_type": "code",
   "execution_count": 248,
   "id": "883a4db7",
   "metadata": {},
   "outputs": [
    {
     "data": {
      "text/plain": [
       "state         object\n",
       "gender        object\n",
       "medianhv      object\n",
       "ic1            int64\n",
       "ic4          float64\n",
       "hvp1           int64\n",
       "percapita     object\n",
       "pobc1          int64\n",
       "ic2          float64\n",
       "ic3            int64\n",
       "avggift      float64\n",
       "tcode          int64\n",
       "dob            int64\n",
       "domain        object\n",
       "target_d     float64\n",
       "dtype: object"
      ]
     },
     "execution_count": 248,
     "metadata": {},
     "output_type": "execute_result"
    }
   ],
   "source": [
    "data.dtypes"
   ]
  },
  {
   "cell_type": "code",
   "execution_count": 249,
   "id": "2169a160",
   "metadata": {},
   "outputs": [],
   "source": [
    "data['medianhv']=pd.to_numeric(data['medianhv'],errors='coerce')"
   ]
  },
  {
   "cell_type": "code",
   "execution_count": 250,
   "id": "aa5c264c",
   "metadata": {},
   "outputs": [
    {
     "name": "stdout",
     "output_type": "stream",
     "text": [
      "<class 'pandas.core.frame.DataFrame'>\n",
      "RangeIndex: 4024 entries, 0 to 4023\n",
      "Data columns (total 15 columns):\n",
      " #   Column     Non-Null Count  Dtype  \n",
      "---  ------     --------------  -----  \n",
      " 0   state      4024 non-null   object \n",
      " 1   gender     4024 non-null   object \n",
      " 2   medianhv   4017 non-null   float64\n",
      " 3   ic1        4024 non-null   int64  \n",
      " 4   ic4        4024 non-null   float64\n",
      " 5   hvp1       4024 non-null   int64  \n",
      " 6   percapita  4024 non-null   object \n",
      " 7   pobc1      4024 non-null   int64  \n",
      " 8   ic2        4024 non-null   float64\n",
      " 9   ic3        4024 non-null   int64  \n",
      " 10  avggift    4024 non-null   float64\n",
      " 11  tcode      4024 non-null   int64  \n",
      " 12  dob        4024 non-null   int64  \n",
      " 13  domain     4024 non-null   object \n",
      " 14  target_d   4024 non-null   float64\n",
      "dtypes: float64(5), int64(6), object(4)\n",
      "memory usage: 471.7+ KB\n"
     ]
    }
   ],
   "source": [
    "data.info()\n",
    "# note we now have some nulls in the medianhv , following our change "
   ]
  },
  {
   "cell_type": "code",
   "execution_count": 251,
   "id": "7c35f0ed",
   "metadata": {},
   "outputs": [],
   "source": [
    "# change per capital income field (ic5) to float \n",
    "data['percapita']=pd.to_numeric(data['percapita'],errors='coerce')"
   ]
  },
  {
   "cell_type": "code",
   "execution_count": 252,
   "id": "cac1f2e6",
   "metadata": {},
   "outputs": [
    {
     "name": "stdout",
     "output_type": "stream",
     "text": [
      "<class 'pandas.core.frame.DataFrame'>\n",
      "RangeIndex: 4024 entries, 0 to 4023\n",
      "Data columns (total 15 columns):\n",
      " #   Column     Non-Null Count  Dtype  \n",
      "---  ------     --------------  -----  \n",
      " 0   state      4024 non-null   object \n",
      " 1   gender     4024 non-null   object \n",
      " 2   medianhv   4017 non-null   float64\n",
      " 3   ic1        4024 non-null   int64  \n",
      " 4   ic4        4024 non-null   float64\n",
      " 5   hvp1       4024 non-null   int64  \n",
      " 6   percapita  4018 non-null   float64\n",
      " 7   pobc1      4024 non-null   int64  \n",
      " 8   ic2        4024 non-null   float64\n",
      " 9   ic3        4024 non-null   int64  \n",
      " 10  avggift    4024 non-null   float64\n",
      " 11  tcode      4024 non-null   int64  \n",
      " 12  dob        4024 non-null   int64  \n",
      " 13  domain     4024 non-null   object \n",
      " 14  target_d   4024 non-null   float64\n",
      "dtypes: float64(6), int64(6), object(3)\n",
      "memory usage: 471.7+ KB\n"
     ]
    }
   ],
   "source": [
    "data.info()\n",
    "# note we now have some nulls in the per capita income , following our change "
   ]
  },
  {
   "cell_type": "code",
   "execution_count": 253,
   "id": "0bfc3316",
   "metadata": {},
   "outputs": [],
   "source": [
    "# we need to drop nulls again - or we could fill those missing values with the median \n",
    "# med_hv1=data['medianhv'].median()\n",
    "# data['medianhv']=data['medianhv'].fillna(med_hv1)\n",
    "data=data.dropna()"
   ]
  },
  {
   "cell_type": "code",
   "execution_count": 254,
   "id": "f9d28319",
   "metadata": {},
   "outputs": [],
   "source": [
    "data.reset_index(drop=True, inplace=True)"
   ]
  },
  {
   "cell_type": "code",
   "execution_count": 255,
   "id": "9a2ad293",
   "metadata": {},
   "outputs": [
    {
     "name": "stdout",
     "output_type": "stream",
     "text": [
      "<class 'pandas.core.frame.DataFrame'>\n",
      "RangeIndex: 4011 entries, 0 to 4010\n",
      "Data columns (total 15 columns):\n",
      " #   Column     Non-Null Count  Dtype  \n",
      "---  ------     --------------  -----  \n",
      " 0   state      4011 non-null   object \n",
      " 1   gender     4011 non-null   object \n",
      " 2   medianhv   4011 non-null   float64\n",
      " 3   ic1        4011 non-null   int64  \n",
      " 4   ic4        4011 non-null   float64\n",
      " 5   hvp1       4011 non-null   int64  \n",
      " 6   percapita  4011 non-null   float64\n",
      " 7   pobc1      4011 non-null   int64  \n",
      " 8   ic2        4011 non-null   float64\n",
      " 9   ic3        4011 non-null   int64  \n",
      " 10  avggift    4011 non-null   float64\n",
      " 11  tcode      4011 non-null   int64  \n",
      " 12  dob        4011 non-null   int64  \n",
      " 13  domain     4011 non-null   object \n",
      " 14  target_d   4011 non-null   float64\n",
      "dtypes: float64(6), int64(6), object(3)\n",
      "memory usage: 470.2+ KB\n"
     ]
    }
   ],
   "source": [
    "data.info()"
   ]
  },
  {
   "cell_type": "markdown",
   "id": "06422981",
   "metadata": {},
   "source": [
    "### duplicates "
   ]
  },
  {
   "cell_type": "code",
   "execution_count": 256,
   "id": "6dc97e54",
   "metadata": {},
   "outputs": [],
   "source": [
    "# search for and eliminate duplicates \n",
    "data_dedupe=data.drop_duplicates()"
   ]
  },
  {
   "cell_type": "code",
   "execution_count": 257,
   "id": "a02741bd",
   "metadata": {},
   "outputs": [
    {
     "data": {
      "text/plain": [
       "(3984, 15)"
      ]
     },
     "execution_count": 257,
     "metadata": {},
     "output_type": "execute_result"
    }
   ],
   "source": [
    "data_dedupe.shape"
   ]
  },
  {
   "cell_type": "code",
   "execution_count": 258,
   "id": "160c0658",
   "metadata": {},
   "outputs": [],
   "source": [
    "#looks ok - replace \n",
    "data=data.drop_duplicates()"
   ]
  },
  {
   "cell_type": "code",
   "execution_count": 259,
   "id": "abd6d8ce",
   "metadata": {},
   "outputs": [],
   "source": [
    "data.reset_index(drop=True, inplace=True)"
   ]
  },
  {
   "cell_type": "code",
   "execution_count": 260,
   "id": "2b4bfdfa",
   "metadata": {},
   "outputs": [
    {
     "name": "stdout",
     "output_type": "stream",
     "text": [
      "<class 'pandas.core.frame.DataFrame'>\n",
      "RangeIndex: 3984 entries, 0 to 3983\n",
      "Data columns (total 15 columns):\n",
      " #   Column     Non-Null Count  Dtype  \n",
      "---  ------     --------------  -----  \n",
      " 0   state      3984 non-null   object \n",
      " 1   gender     3984 non-null   object \n",
      " 2   medianhv   3984 non-null   float64\n",
      " 3   ic1        3984 non-null   int64  \n",
      " 4   ic4        3984 non-null   float64\n",
      " 5   hvp1       3984 non-null   int64  \n",
      " 6   percapita  3984 non-null   float64\n",
      " 7   pobc1      3984 non-null   int64  \n",
      " 8   ic2        3984 non-null   float64\n",
      " 9   ic3        3984 non-null   int64  \n",
      " 10  avggift    3984 non-null   float64\n",
      " 11  tcode      3984 non-null   int64  \n",
      " 12  dob        3984 non-null   int64  \n",
      " 13  domain     3984 non-null   object \n",
      " 14  target_d   3984 non-null   float64\n",
      "dtypes: float64(6), int64(6), object(3)\n",
      "memory usage: 467.0+ KB\n"
     ]
    }
   ],
   "source": [
    "data.info()"
   ]
  },
  {
   "cell_type": "markdown",
   "id": "dd585eba",
   "metadata": {},
   "source": [
    "## cleaning the values in some categorical columns "
   ]
  },
  {
   "cell_type": "code",
   "execution_count": 261,
   "id": "2afa32b5",
   "metadata": {},
   "outputs": [
    {
     "data": {
      "text/plain": [
       "array(['M', 'F', 'female', 'Male', 'Unknown', 'U', 'J', 'male', 'Female',\n",
       "       'feamale', 'A'], dtype=object)"
      ]
     },
     "execution_count": 261,
     "metadata": {},
     "output_type": "execute_result"
    }
   ],
   "source": [
    "data['gender'].unique()"
   ]
  },
  {
   "cell_type": "code",
   "execution_count": 262,
   "id": "d0d16c6a",
   "metadata": {},
   "outputs": [],
   "source": [
    "data['gender']=data['gender'].str.title()"
   ]
  },
  {
   "cell_type": "code",
   "execution_count": 263,
   "id": "d0668b9b",
   "metadata": {},
   "outputs": [],
   "source": [
    "def clean_gender(x):\n",
    "    if x in['M','Male']:\n",
    "        return 'Male'\n",
    "    if x in['F','Female','Feamale']:\n",
    "        return 'Female'\n",
    "    else:\n",
    "        return 'Unknown'"
   ]
  },
  {
   "cell_type": "code",
   "execution_count": 264,
   "id": "3ef4e2d2",
   "metadata": {},
   "outputs": [],
   "source": [
    "data['gender']=list(map(clean_gender,data['gender']))"
   ]
  },
  {
   "cell_type": "code",
   "execution_count": 265,
   "id": "95e139c0",
   "metadata": {},
   "outputs": [
    {
     "data": {
      "text/plain": [
       "array(['Male', 'Female', 'Unknown'], dtype=object)"
      ]
     },
     "execution_count": 265,
     "metadata": {},
     "output_type": "execute_result"
    }
   ],
   "source": [
    "data['gender'].unique()"
   ]
  },
  {
   "cell_type": "code",
   "execution_count": 266,
   "id": "9d54350e",
   "metadata": {},
   "outputs": [
    {
     "data": {
      "text/plain": [
       "array(['IL', 'FL', 'NC', 'TX', 'NV', 'CA', 'Cali', 'AP', 'MI', 'OK', 'AR',\n",
       "       'IN', 'MT', 'WI', 'MO', 'HI', 'UT', 'GA', 'WA', 'ID', 'CT', 'AL',\n",
       "       'ND', 'SC', 'IA', 'CO', 'LA', 'OR', 'SD', 'TN', 'NM', 'AZ', 'MN',\n",
       "       'KY', 'NJ', 'NE', 'KS', 'California', 'MS', 'NY', 'Arizona', 'WY',\n",
       "       'Tennessee', 'MD', 'AK', 'VA', 'AE', 'AA', 'PA', 'VT', 'WV', 'GU'],\n",
       "      dtype=object)"
      ]
     },
     "execution_count": 266,
     "metadata": {},
     "output_type": "execute_result"
    }
   ],
   "source": [
    "data['state'].unique()"
   ]
  },
  {
   "cell_type": "code",
   "execution_count": 267,
   "id": "87a40a6e",
   "metadata": {},
   "outputs": [],
   "source": [
    "def clean_state(x): \n",
    "    if x in ['Cali','CA', 'California']:\n",
    "        return 'CA'\n",
    "    elif x == 'Arizona':\n",
    "        return 'AZ'\n",
    "    elif x == 'Tennessee':\n",
    "        return 'TN'\n",
    "    else:\n",
    "        return x "
   ]
  },
  {
   "cell_type": "code",
   "execution_count": 268,
   "id": "8234d6ee",
   "metadata": {},
   "outputs": [],
   "source": [
    "data['state']=list(map(clean_state,data['state']))"
   ]
  },
  {
   "cell_type": "code",
   "execution_count": 269,
   "id": "d9c38546",
   "metadata": {},
   "outputs": [
    {
     "data": {
      "text/plain": [
       "array(['IL', 'FL', 'NC', 'TX', 'NV', 'CA', 'AP', 'MI', 'OK', 'AR', 'IN',\n",
       "       'MT', 'WI', 'MO', 'HI', 'UT', 'GA', 'WA', 'ID', 'CT', 'AL', 'ND',\n",
       "       'SC', 'IA', 'CO', 'LA', 'OR', 'SD', 'TN', 'NM', 'AZ', 'MN', 'KY',\n",
       "       'NJ', 'NE', 'KS', 'MS', 'NY', 'WY', 'MD', 'AK', 'VA', 'AE', 'AA',\n",
       "       'PA', 'VT', 'WV', 'GU'], dtype=object)"
      ]
     },
     "execution_count": 269,
     "metadata": {},
     "output_type": "execute_result"
    }
   ],
   "source": [
    "data['state'].unique()"
   ]
  },
  {
   "cell_type": "code",
   "execution_count": 270,
   "id": "981381f9",
   "metadata": {},
   "outputs": [
    {
     "data": {
      "text/html": [
       "<div>\n",
       "<style scoped>\n",
       "    .dataframe tbody tr th:only-of-type {\n",
       "        vertical-align: middle;\n",
       "    }\n",
       "\n",
       "    .dataframe tbody tr th {\n",
       "        vertical-align: top;\n",
       "    }\n",
       "\n",
       "    .dataframe thead th {\n",
       "        text-align: right;\n",
       "    }\n",
       "</style>\n",
       "<table border=\"1\" class=\"dataframe\">\n",
       "  <thead>\n",
       "    <tr style=\"text-align: right;\">\n",
       "      <th></th>\n",
       "      <th>state</th>\n",
       "      <th>gender</th>\n",
       "      <th>medianhv</th>\n",
       "      <th>ic1</th>\n",
       "      <th>ic4</th>\n",
       "      <th>hvp1</th>\n",
       "      <th>percapita</th>\n",
       "      <th>pobc1</th>\n",
       "      <th>ic2</th>\n",
       "      <th>ic3</th>\n",
       "      <th>avggift</th>\n",
       "      <th>tcode</th>\n",
       "      <th>dob</th>\n",
       "      <th>domain</th>\n",
       "      <th>target_d</th>\n",
       "    </tr>\n",
       "  </thead>\n",
       "  <tbody>\n",
       "    <tr>\n",
       "      <th>0</th>\n",
       "      <td>IL</td>\n",
       "      <td>Male</td>\n",
       "      <td>537.0</td>\n",
       "      <td>365</td>\n",
       "      <td>473.0</td>\n",
       "      <td>0</td>\n",
       "      <td>19387.0</td>\n",
       "      <td>1</td>\n",
       "      <td>415.0</td>\n",
       "      <td>410</td>\n",
       "      <td>5.666667</td>\n",
       "      <td>0</td>\n",
       "      <td>0</td>\n",
       "      <td>T2</td>\n",
       "      <td>7.0</td>\n",
       "    </tr>\n",
       "    <tr>\n",
       "      <th>1</th>\n",
       "      <td>FL</td>\n",
       "      <td>Female</td>\n",
       "      <td>725.0</td>\n",
       "      <td>301</td>\n",
       "      <td>436.0</td>\n",
       "      <td>3</td>\n",
       "      <td>18837.0</td>\n",
       "      <td>11</td>\n",
       "      <td>340.0</td>\n",
       "      <td>361</td>\n",
       "      <td>4.111111</td>\n",
       "      <td>0</td>\n",
       "      <td>2501</td>\n",
       "      <td>C2</td>\n",
       "      <td>5.0</td>\n",
       "    </tr>\n",
       "    <tr>\n",
       "      <th>2</th>\n",
       "      <td>FL</td>\n",
       "      <td>Female</td>\n",
       "      <td>995.0</td>\n",
       "      <td>252</td>\n",
       "      <td>348.0</td>\n",
       "      <td>0</td>\n",
       "      <td>17991.0</td>\n",
       "      <td>5</td>\n",
       "      <td>280.0</td>\n",
       "      <td>316</td>\n",
       "      <td>6.000000</td>\n",
       "      <td>28</td>\n",
       "      <td>0</td>\n",
       "      <td>C2</td>\n",
       "      <td>5.0</td>\n",
       "    </tr>\n",
       "    <tr>\n",
       "      <th>3</th>\n",
       "      <td>IL</td>\n",
       "      <td>Male</td>\n",
       "      <td>764.0</td>\n",
       "      <td>457</td>\n",
       "      <td>501.0</td>\n",
       "      <td>1</td>\n",
       "      <td>16022.0</td>\n",
       "      <td>2</td>\n",
       "      <td>477.0</td>\n",
       "      <td>480</td>\n",
       "      <td>25.571429</td>\n",
       "      <td>1</td>\n",
       "      <td>6104</td>\n",
       "      <td>S2</td>\n",
       "      <td>30.0</td>\n",
       "    </tr>\n",
       "    <tr>\n",
       "      <th>4</th>\n",
       "      <td>NC</td>\n",
       "      <td>Female</td>\n",
       "      <td>775.0</td>\n",
       "      <td>318</td>\n",
       "      <td>419.0</td>\n",
       "      <td>5</td>\n",
       "      <td>13491.0</td>\n",
       "      <td>0</td>\n",
       "      <td>364.0</td>\n",
       "      <td>380</td>\n",
       "      <td>4.625000</td>\n",
       "      <td>0</td>\n",
       "      <td>4407</td>\n",
       "      <td>R2</td>\n",
       "      <td>12.0</td>\n",
       "    </tr>\n",
       "  </tbody>\n",
       "</table>\n",
       "</div>"
      ],
      "text/plain": [
       "  state  gender  medianhv  ic1    ic4  hvp1  percapita  pobc1    ic2  ic3  \\\n",
       "0    IL    Male     537.0  365  473.0     0    19387.0      1  415.0  410   \n",
       "1    FL  Female     725.0  301  436.0     3    18837.0     11  340.0  361   \n",
       "2    FL  Female     995.0  252  348.0     0    17991.0      5  280.0  316   \n",
       "3    IL    Male     764.0  457  501.0     1    16022.0      2  477.0  480   \n",
       "4    NC  Female     775.0  318  419.0     5    13491.0      0  364.0  380   \n",
       "\n",
       "     avggift  tcode   dob domain  target_d  \n",
       "0   5.666667      0     0     T2       7.0  \n",
       "1   4.111111      0  2501     C2       5.0  \n",
       "2   6.000000     28     0     C2       5.0  \n",
       "3  25.571429      1  6104     S2      30.0  \n",
       "4   4.625000      0  4407     R2      12.0  "
      ]
     },
     "execution_count": 270,
     "metadata": {},
     "output_type": "execute_result"
    }
   ],
   "source": [
    "data.head()"
   ]
  },
  {
   "cell_type": "markdown",
   "id": "ff165ae6",
   "metadata": {},
   "source": [
    "## Some EDA, plotting + maybe a clean outliers step"
   ]
  },
  {
   "cell_type": "code",
   "execution_count": 271,
   "id": "332295fa",
   "metadata": {},
   "outputs": [],
   "source": [
    "import seaborn as sns \n",
    "import matplotlib.pyplot as plt \n",
    "%matplotlib inline  "
   ]
  },
  {
   "cell_type": "code",
   "execution_count": 272,
   "id": "c1fda50f",
   "metadata": {},
   "outputs": [
    {
     "data": {
      "text/html": [
       "<div>\n",
       "<style scoped>\n",
       "    .dataframe tbody tr th:only-of-type {\n",
       "        vertical-align: middle;\n",
       "    }\n",
       "\n",
       "    .dataframe tbody tr th {\n",
       "        vertical-align: top;\n",
       "    }\n",
       "\n",
       "    .dataframe thead th {\n",
       "        text-align: right;\n",
       "    }\n",
       "</style>\n",
       "<table border=\"1\" class=\"dataframe\">\n",
       "  <thead>\n",
       "    <tr style=\"text-align: right;\">\n",
       "      <th></th>\n",
       "      <th>medianhv</th>\n",
       "      <th>ic1</th>\n",
       "      <th>ic4</th>\n",
       "      <th>hvp1</th>\n",
       "      <th>percapita</th>\n",
       "      <th>pobc1</th>\n",
       "      <th>ic2</th>\n",
       "      <th>ic3</th>\n",
       "      <th>avggift</th>\n",
       "      <th>tcode</th>\n",
       "      <th>dob</th>\n",
       "      <th>target_d</th>\n",
       "    </tr>\n",
       "  </thead>\n",
       "  <tbody>\n",
       "    <tr>\n",
       "      <th>count</th>\n",
       "      <td>3984.000000</td>\n",
       "      <td>3984.000000</td>\n",
       "      <td>3984.000000</td>\n",
       "      <td>3984.000000</td>\n",
       "      <td>3984.000000</td>\n",
       "      <td>3984.000000</td>\n",
       "      <td>3984.000000</td>\n",
       "      <td>3984.000000</td>\n",
       "      <td>3984.000000</td>\n",
       "      <td>3984.000000</td>\n",
       "      <td>3984.000000</td>\n",
       "      <td>3984.000000</td>\n",
       "    </tr>\n",
       "    <tr>\n",
       "      <th>mean</th>\n",
       "      <td>1158.437751</td>\n",
       "      <td>351.710592</td>\n",
       "      <td>444.800954</td>\n",
       "      <td>15.959086</td>\n",
       "      <td>16454.678464</td>\n",
       "      <td>6.847641</td>\n",
       "      <td>400.847390</td>\n",
       "      <td>399.919679</td>\n",
       "      <td>11.778064</td>\n",
       "      <td>77.044428</td>\n",
       "      <td>2705.797691</td>\n",
       "      <td>15.639681</td>\n",
       "    </tr>\n",
       "    <tr>\n",
       "      <th>std</th>\n",
       "      <td>1034.652748</td>\n",
       "      <td>168.622518</td>\n",
       "      <td>175.150692</td>\n",
       "      <td>28.854663</td>\n",
       "      <td>9459.531394</td>\n",
       "      <td>9.473651</td>\n",
       "      <td>180.698192</td>\n",
       "      <td>164.968663</td>\n",
       "      <td>10.176000</td>\n",
       "      <td>1196.487430</td>\n",
       "      <td>2054.993650</td>\n",
       "      <td>12.640243</td>\n",
       "    </tr>\n",
       "    <tr>\n",
       "      <th>min</th>\n",
       "      <td>0.000000</td>\n",
       "      <td>0.000000</td>\n",
       "      <td>0.000000</td>\n",
       "      <td>0.000000</td>\n",
       "      <td>0.000000</td>\n",
       "      <td>0.000000</td>\n",
       "      <td>0.000000</td>\n",
       "      <td>0.000000</td>\n",
       "      <td>2.260870</td>\n",
       "      <td>0.000000</td>\n",
       "      <td>0.000000</td>\n",
       "      <td>1.000000</td>\n",
       "    </tr>\n",
       "    <tr>\n",
       "      <th>25%</th>\n",
       "      <td>548.000000</td>\n",
       "      <td>239.000000</td>\n",
       "      <td>325.000000</td>\n",
       "      <td>0.000000</td>\n",
       "      <td>11136.000000</td>\n",
       "      <td>1.000000</td>\n",
       "      <td>284.000000</td>\n",
       "      <td>286.750000</td>\n",
       "      <td>7.181818</td>\n",
       "      <td>0.000000</td>\n",
       "      <td>607.750000</td>\n",
       "      <td>10.000000</td>\n",
       "    </tr>\n",
       "    <tr>\n",
       "      <th>50%</th>\n",
       "      <td>801.000000</td>\n",
       "      <td>318.000000</td>\n",
       "      <td>410.000000</td>\n",
       "      <td>1.000000</td>\n",
       "      <td>14358.000000</td>\n",
       "      <td>4.000000</td>\n",
       "      <td>366.000000</td>\n",
       "      <td>365.000000</td>\n",
       "      <td>10.000000</td>\n",
       "      <td>1.000000</td>\n",
       "      <td>2701.000000</td>\n",
       "      <td>14.000000</td>\n",
       "    </tr>\n",
       "    <tr>\n",
       "      <th>75%</th>\n",
       "      <td>1351.500000</td>\n",
       "      <td>425.000000</td>\n",
       "      <td>528.000000</td>\n",
       "      <td>14.000000</td>\n",
       "      <td>18777.750000</td>\n",
       "      <td>9.000000</td>\n",
       "      <td>478.000000</td>\n",
       "      <td>480.000000</td>\n",
       "      <td>14.428571</td>\n",
       "      <td>2.000000</td>\n",
       "      <td>4401.000000</td>\n",
       "      <td>20.000000</td>\n",
       "    </tr>\n",
       "    <tr>\n",
       "      <th>max</th>\n",
       "      <td>5982.000000</td>\n",
       "      <td>1500.000000</td>\n",
       "      <td>1331.000000</td>\n",
       "      <td>99.000000</td>\n",
       "      <td>174523.000000</td>\n",
       "      <td>79.000000</td>\n",
       "      <td>1500.000000</td>\n",
       "      <td>1311.000000</td>\n",
       "      <td>450.000000</td>\n",
       "      <td>39002.000000</td>\n",
       "      <td>9310.000000</td>\n",
       "      <td>200.000000</td>\n",
       "    </tr>\n",
       "  </tbody>\n",
       "</table>\n",
       "</div>"
      ],
      "text/plain": [
       "          medianhv          ic1          ic4         hvp1      percapita  \\\n",
       "count  3984.000000  3984.000000  3984.000000  3984.000000    3984.000000   \n",
       "mean   1158.437751   351.710592   444.800954    15.959086   16454.678464   \n",
       "std    1034.652748   168.622518   175.150692    28.854663    9459.531394   \n",
       "min       0.000000     0.000000     0.000000     0.000000       0.000000   \n",
       "25%     548.000000   239.000000   325.000000     0.000000   11136.000000   \n",
       "50%     801.000000   318.000000   410.000000     1.000000   14358.000000   \n",
       "75%    1351.500000   425.000000   528.000000    14.000000   18777.750000   \n",
       "max    5982.000000  1500.000000  1331.000000    99.000000  174523.000000   \n",
       "\n",
       "             pobc1          ic2          ic3      avggift         tcode  \\\n",
       "count  3984.000000  3984.000000  3984.000000  3984.000000   3984.000000   \n",
       "mean      6.847641   400.847390   399.919679    11.778064     77.044428   \n",
       "std       9.473651   180.698192   164.968663    10.176000   1196.487430   \n",
       "min       0.000000     0.000000     0.000000     2.260870      0.000000   \n",
       "25%       1.000000   284.000000   286.750000     7.181818      0.000000   \n",
       "50%       4.000000   366.000000   365.000000    10.000000      1.000000   \n",
       "75%       9.000000   478.000000   480.000000    14.428571      2.000000   \n",
       "max      79.000000  1500.000000  1311.000000   450.000000  39002.000000   \n",
       "\n",
       "               dob     target_d  \n",
       "count  3984.000000  3984.000000  \n",
       "mean   2705.797691    15.639681  \n",
       "std    2054.993650    12.640243  \n",
       "min       0.000000     1.000000  \n",
       "25%     607.750000    10.000000  \n",
       "50%    2701.000000    14.000000  \n",
       "75%    4401.000000    20.000000  \n",
       "max    9310.000000   200.000000  "
      ]
     },
     "execution_count": 272,
     "metadata": {},
     "output_type": "execute_result"
    }
   ],
   "source": [
    "data.describe()"
   ]
  },
  {
   "cell_type": "code",
   "execution_count": 273,
   "id": "5813534e",
   "metadata": {},
   "outputs": [
    {
     "data": {
      "image/png": "[encoded data removed]",
      "text/plain": [
       "<Figure size 1080x1080 with 12 Axes>"
      ]
     },
     "metadata": {
      "needs_background": "light"
     },
     "output_type": "display_data"
    }
   ],
   "source": [
    "# visualise the numerical columns \n",
    "data.hist(figsize=(15,15), bins=50, layout=(4,3));"
   ]
  },
  {
   "cell_type": "code",
   "execution_count": 274,
   "id": "5943ea1d",
   "metadata": {},
   "outputs": [],
   "source": [
    " # optionally - sns.pairplot(data); # but this takes a few minutes!"
   ]
  },
  {
   "cell_type": "markdown",
   "id": "3b30426a",
   "metadata": {},
   "source": [
    "#### would we eliminate any columns now ?"
   ]
  },
  {
   "cell_type": "code",
   "execution_count": 275,
   "id": "f1fd29bb",
   "metadata": {},
   "outputs": [],
   "source": [
    "#choosing to eliminate columns based on this \n",
    "data=data.drop(['tcode'],axis=1)"
   ]
  },
  {
   "cell_type": "code",
   "execution_count": 276,
   "id": "67f636c3",
   "metadata": {},
   "outputs": [
    {
     "name": "stdout",
     "output_type": "stream",
     "text": [
      "<class 'pandas.core.frame.DataFrame'>\n",
      "RangeIndex: 3984 entries, 0 to 3983\n",
      "Data columns (total 14 columns):\n",
      " #   Column     Non-Null Count  Dtype  \n",
      "---  ------     --------------  -----  \n",
      " 0   state      3984 non-null   object \n",
      " 1   gender     3984 non-null   object \n",
      " 2   medianhv   3984 non-null   float64\n",
      " 3   ic1        3984 non-null   int64  \n",
      " 4   ic4        3984 non-null   float64\n",
      " 5   hvp1       3984 non-null   int64  \n",
      " 6   percapita  3984 non-null   float64\n",
      " 7   pobc1      3984 non-null   int64  \n",
      " 8   ic2        3984 non-null   float64\n",
      " 9   ic3        3984 non-null   int64  \n",
      " 10  avggift    3984 non-null   float64\n",
      " 11  dob        3984 non-null   int64  \n",
      " 12  domain     3984 non-null   object \n",
      " 13  target_d   3984 non-null   float64\n",
      "dtypes: float64(6), int64(5), object(3)\n",
      "memory usage: 435.9+ KB\n"
     ]
    }
   ],
   "source": [
    "data.info()"
   ]
  },
  {
   "cell_type": "markdown",
   "id": "69369f76",
   "metadata": {},
   "source": [
    "#### Looking at specific columns "
   ]
  },
  {
   "cell_type": "code",
   "execution_count": 277,
   "id": "a3e8fc74",
   "metadata": {},
   "outputs": [
    {
     "data": {
      "text/plain": [
       "<AxesSubplot:>"
      ]
     },
     "execution_count": 277,
     "metadata": {},
     "output_type": "execute_result"
    },
    {
     "data": {
      "image/png": "[encoded data removed]",
      "text/plain": [
       "<Figure size 432x288 with 1 Axes>"
      ]
     },
     "metadata": {
      "needs_background": "light"
     },
     "output_type": "display_data"
    }
   ],
   "source": [
    "data[['avggift']].boxplot()"
   ]
  },
  {
   "cell_type": "code",
   "execution_count": 278,
   "id": "afedd130",
   "metadata": {},
   "outputs": [
    {
     "data": {
      "text/plain": [
       "<AxesSubplot:>"
      ]
     },
     "execution_count": 278,
     "metadata": {},
     "output_type": "execute_result"
    },
    {
     "data": {
      "image/png": "[encoded data removed]",
      "text/plain": [
       "<Figure size 432x288 with 1 Axes>"
      ]
     },
     "metadata": {
      "needs_background": "light"
     },
     "output_type": "display_data"
    }
   ],
   "source": [
    "data[['pobc1']].boxplot()"
   ]
  },
  {
   "cell_type": "code",
   "execution_count": 279,
   "id": "3039673e",
   "metadata": {},
   "outputs": [
    {
     "data": {
      "text/plain": [
       "<AxesSubplot:>"
      ]
     },
     "execution_count": 279,
     "metadata": {},
     "output_type": "execute_result"
    },
    {
     "data": {
      "image/png": "[encoded data removed]",
      "text/plain": [
       "<Figure size 432x288 with 1 Axes>"
      ]
     },
     "metadata": {
      "needs_background": "light"
     },
     "output_type": "display_data"
    }
   ],
   "source": [
    "data[['hvp1']].boxplot()"
   ]
  },
  {
   "cell_type": "code",
   "execution_count": 280,
   "id": "ae7a3f19",
   "metadata": {},
   "outputs": [
    {
     "data": {
      "text/plain": [
       "<AxesSubplot:>"
      ]
     },
     "execution_count": 280,
     "metadata": {},
     "output_type": "execute_result"
    },
    {
     "data": {
      "image/png": "[encoded data removed]",
      "text/plain": [
       "<Figure size 432x288 with 1 Axes>"
      ]
     },
     "metadata": {
      "needs_background": "light"
     },
     "output_type": "display_data"
    }
   ],
   "source": [
    "data[['medianhv']].boxplot()"
   ]
  },
  {
   "cell_type": "code",
   "execution_count": 281,
   "id": "4476e1bf",
   "metadata": {},
   "outputs": [
    {
     "data": {
      "text/plain": [
       "<AxesSubplot:>"
      ]
     },
     "execution_count": 281,
     "metadata": {},
     "output_type": "execute_result"
    },
    {
     "data": {
      "image/png": "[encoded data removed]",
      "text/plain": [
       "<Figure size 432x288 with 1 Axes>"
      ]
     },
     "metadata": {
      "needs_background": "light"
     },
     "output_type": "display_data"
    }
   ],
   "source": [
    "data[['target_d']].boxplot()"
   ]
  },
  {
   "cell_type": "code",
   "execution_count": 282,
   "id": "86060820",
   "metadata": {},
   "outputs": [
    {
     "data": {
      "image/png": "[encoded data removed]",
      "text/plain": [
       "<Figure size 1440x360 with 1 Axes>"
      ]
     },
     "metadata": {
      "needs_background": "light"
     },
     "output_type": "display_data"
    }
   ],
   "source": [
    "plt.figure(figsize=(20,5))\n",
    "ax=sns.boxplot(x=data['avggift'])"
   ]
  },
  {
   "cell_type": "code",
   "execution_count": 283,
   "id": "e0985ed6",
   "metadata": {},
   "outputs": [
    {
     "data": {
      "image/png": "[encoded data removed]",
      "text/plain": [
       "<Figure size 1440x360 with 1 Axes>"
      ]
     },
     "metadata": {
      "needs_background": "light"
     },
     "output_type": "display_data"
    }
   ],
   "source": [
    "plt.figure(figsize=(20,5))\n",
    "ax=sns.boxplot(x=data['percapita'])"
   ]
  },
  {
   "cell_type": "code",
   "execution_count": 284,
   "id": "431a064f",
   "metadata": {},
   "outputs": [
    {
     "data": {
      "text/plain": [
       "<AxesSubplot:xlabel='avggift', ylabel='gender'>"
      ]
     },
     "execution_count": 284,
     "metadata": {},
     "output_type": "execute_result"
    },
    {
     "data": {
      "image/png": "[encoded data removed]",
      "text/plain": [
       "<Figure size 1440x360 with 1 Axes>"
      ]
     },
     "metadata": {
      "needs_background": "light"
     },
     "output_type": "display_data"
    }
   ],
   "source": [
    "plt.figure(figsize=(20,5))\n",
    "sns.boxplot(x='avggift',y='gender',data=data)"
   ]
  },
  {
   "cell_type": "code",
   "execution_count": 285,
   "id": "c8bac778",
   "metadata": {},
   "outputs": [
    {
     "data": {
      "text/plain": [
       "<AxesSubplot:>"
      ]
     },
     "execution_count": 285,
     "metadata": {},
     "output_type": "execute_result"
    },
    {
     "data": {
      "image/png": "[encoded data removed]",
      "text/plain": [
       "<Figure size 432x288 with 1 Axes>"
      ]
     },
     "metadata": {
      "needs_background": "light"
     },
     "output_type": "display_data"
    }
   ],
   "source": [
    "data['avggift'].hist()"
   ]
  },
  {
   "cell_type": "code",
   "execution_count": 286,
   "id": "7a44c2a7",
   "metadata": {},
   "outputs": [
    {
     "data": {
      "image/png": "[encoded data removed]",
      "text/plain": [
       "<Figure size 432x288 with 1 Axes>"
      ]
     },
     "metadata": {
      "needs_background": "light"
     },
     "output_type": "display_data"
    }
   ],
   "source": [
    "data['percapita'].hist(range=(1,50000),bins=100);"
   ]
  },
  {
   "cell_type": "code",
   "execution_count": 287,
   "id": "b05727b1",
   "metadata": {},
   "outputs": [
    {
     "data": {
      "text/plain": [
       "<matplotlib.collections.PathCollection at 0x7fd166806f10>"
      ]
     },
     "execution_count": 287,
     "metadata": {},
     "output_type": "execute_result"
    },
    {
     "data": {
      "image/png": "[encoded data removed]",
      "text/plain": [
       "<Figure size 432x288 with 1 Axes>"
      ]
     },
     "metadata": {
      "needs_background": "light"
     },
     "output_type": "display_data"
    }
   ],
   "source": [
    "plt.scatter(x='percapita',y='avggift', data=data)"
   ]
  },
  {
   "cell_type": "code",
   "execution_count": 288,
   "id": "dd23ed4e",
   "metadata": {},
   "outputs": [
    {
     "data": {
      "image/png": "[encoded data removed]",
      "text/plain": [
       "<Figure size 432x432 with 3 Axes>"
      ]
     },
     "metadata": {
      "needs_background": "light"
     },
     "output_type": "display_data"
    }
   ],
   "source": [
    "sns.jointplot(data=data, y='target_d',x='avggift');"
   ]
  },
  {
   "cell_type": "code",
   "execution_count": 289,
   "id": "bcdd1200",
   "metadata": {},
   "outputs": [
    {
     "data": {
      "image/png": "[encoded data removed]",
      "text/plain": [
       "<Figure size 432x432 with 3 Axes>"
      ]
     },
     "metadata": {
      "needs_background": "light"
     },
     "output_type": "display_data"
    }
   ],
   "source": [
    "sns.jointplot(data=data, y='target_d',x='medianhv');"
   ]
  },
  {
   "cell_type": "code",
   "execution_count": 290,
   "id": "0c43965b",
   "metadata": {},
   "outputs": [
    {
     "data": {
      "image/png": "[encoded data removed]",
      "text/plain": [
       "<Figure size 432x432 with 3 Axes>"
      ]
     },
     "metadata": {
      "needs_background": "light"
     },
     "output_type": "display_data"
    }
   ],
   "source": [
    "sns.jointplot(data=data, y='target_d',x='percapita');"
   ]
  },
  {
   "cell_type": "code",
   "execution_count": 291,
   "id": "2bbf27b7",
   "metadata": {},
   "outputs": [
    {
     "data": {
      "text/plain": [
       "<AxesSubplot:xlabel='ic2', ylabel='medianhv'>"
      ]
     },
     "execution_count": 291,
     "metadata": {},
     "output_type": "execute_result"
    },
    {
     "data": {
      "image/png": "[encoded data removed]",
      "text/plain": [
       "<Figure size 432x288 with 1 Axes>"
      ]
     },
     "metadata": {
      "needs_background": "light"
     },
     "output_type": "display_data"
    }
   ],
   "source": [
    "sns.regplot(data=data, x='ic2', y='medianhv')"
   ]
  },
  {
   "cell_type": "code",
   "execution_count": 292,
   "id": "ac968edb",
   "metadata": {},
   "outputs": [
    {
     "data": {
      "image/png": "[encoded data removed]",
      "text/plain": [
       "<Figure size 1440x1440 with 1 Axes>"
      ]
     },
     "metadata": {
      "needs_background": "light"
     },
     "output_type": "display_data"
    }
   ],
   "source": [
    "plt.figure(figsize=(20,20))\n",
    "sns.boxplot(x='target_d',y='state',data=data);"
   ]
  },
  {
   "cell_type": "code",
   "execution_count": 293,
   "id": "e581602a",
   "metadata": {},
   "outputs": [
    {
     "data": {
      "image/png": "[encoded data removed]",
      "text/plain": [
       "<Figure size 720x360 with 1 Axes>"
      ]
     },
     "metadata": {
      "needs_background": "light"
     },
     "output_type": "display_data"
    }
   ],
   "source": [
    "plt.figure(figsize=(10,5))\n",
    "sns.boxplot(x='target_d',y='gender',data=data);"
   ]
  },
  {
   "cell_type": "code",
   "execution_count": 294,
   "id": "097e5852",
   "metadata": {},
   "outputs": [
    {
     "data": {
      "image/png": "[encoded data removed]",
      "text/plain": [
       "<Figure size 720x720 with 1 Axes>"
      ]
     },
     "metadata": {
      "needs_background": "light"
     },
     "output_type": "display_data"
    }
   ],
   "source": [
    "plt.figure(figsize=(10,10))\n",
    "sns.boxplot(x='target_d',y='domain',data=data);"
   ]
  },
  {
   "cell_type": "markdown",
   "id": "d80c5697",
   "metadata": {},
   "source": [
    "#### outlier detection and removal on selected columns "
   ]
  },
  {
   "cell_type": "markdown",
   "id": "d3f1f171",
   "metadata": {},
   "source": [
    "get the upper and lower limits\n",
    "\n",
    " + this is based on 1st and 3rd quartiles (25th and 75th percentiles)\n",
    "+ with an addition of 1.5 x IQR \n",
    "\n",
    "- i will do this on per one field only "
   ]
  },
  {
   "cell_type": "code",
   "execution_count": 295,
   "id": "db0a238a",
   "metadata": {},
   "outputs": [
    {
     "data": {
      "text/plain": [
       "<AxesSubplot:>"
      ]
     },
     "execution_count": 295,
     "metadata": {},
     "output_type": "execute_result"
    },
    {
     "data": {
      "image/png": "[encoded data removed]",
      "text/plain": [
       "<Figure size 432x288 with 1 Axes>"
      ]
     },
     "metadata": {
      "needs_background": "light"
     },
     "output_type": "display_data"
    }
   ],
   "source": [
    "data['pobc1'].hist()"
   ]
  },
  {
   "cell_type": "code",
   "execution_count": 296,
   "id": "f47f365d",
   "metadata": {},
   "outputs": [],
   "source": [
    "iqr=np.percentile(data['pobc1'],75)-np.percentile(data['pobc1'],25)"
   ]
  },
  {
   "cell_type": "code",
   "execution_count": 297,
   "id": "e66cbcb0",
   "metadata": {},
   "outputs": [],
   "source": [
    "upper_limit= np.percentile(data['pobc1'],75)+ 1.5*iqr"
   ]
  },
  {
   "cell_type": "code",
   "execution_count": 298,
   "id": "b3482601",
   "metadata": {},
   "outputs": [
    {
     "data": {
      "text/plain": [
       "21.0"
      ]
     },
     "execution_count": 298,
     "metadata": {},
     "output_type": "execute_result"
    }
   ],
   "source": [
    "upper_limit"
   ]
  },
  {
   "cell_type": "code",
   "execution_count": 299,
   "id": "84e2b03b",
   "metadata": {},
   "outputs": [],
   "source": [
    "lower_limit= np.percentile(data['pobc1'],25)- 1.5*iqr"
   ]
  },
  {
   "cell_type": "code",
   "execution_count": 300,
   "id": "675bd0bc",
   "metadata": {},
   "outputs": [
    {
     "data": {
      "text/plain": [
       "-11.0"
      ]
     },
     "execution_count": 300,
     "metadata": {},
     "output_type": "execute_result"
    }
   ],
   "source": [
    "lower_limit"
   ]
  },
  {
   "cell_type": "markdown",
   "id": "50f62643",
   "metadata": {},
   "source": [
    "##### drop data outside of these limits "
   ]
  },
  {
   "cell_type": "code",
   "execution_count": 301,
   "id": "0c00b2bf",
   "metadata": {},
   "outputs": [],
   "source": [
    "## if youre making a DROP change - ensure you call the whole data set \n",
    "\n",
    "data=data[(data['pobc1']>lower_limit)&(data['pobc1']<=upper_limit)]"
   ]
  },
  {
   "cell_type": "code",
   "execution_count": 302,
   "id": "6632582b",
   "metadata": {},
   "outputs": [],
   "source": [
    "data.reset_index(drop=True, inplace=True)"
   ]
  },
  {
   "cell_type": "code",
   "execution_count": 303,
   "id": "c0e400e3",
   "metadata": {},
   "outputs": [
    {
     "name": "stdout",
     "output_type": "stream",
     "text": [
      "<class 'pandas.core.frame.DataFrame'>\n",
      "RangeIndex: 3696 entries, 0 to 3695\n",
      "Data columns (total 14 columns):\n",
      " #   Column     Non-Null Count  Dtype  \n",
      "---  ------     --------------  -----  \n",
      " 0   state      3696 non-null   object \n",
      " 1   gender     3696 non-null   object \n",
      " 2   medianhv   3696 non-null   float64\n",
      " 3   ic1        3696 non-null   int64  \n",
      " 4   ic4        3696 non-null   float64\n",
      " 5   hvp1       3696 non-null   int64  \n",
      " 6   percapita  3696 non-null   float64\n",
      " 7   pobc1      3696 non-null   int64  \n",
      " 8   ic2        3696 non-null   float64\n",
      " 9   ic3        3696 non-null   int64  \n",
      " 10  avggift    3696 non-null   float64\n",
      " 11  dob        3696 non-null   int64  \n",
      " 12  domain     3696 non-null   object \n",
      " 13  target_d   3696 non-null   float64\n",
      "dtypes: float64(6), int64(5), object(3)\n",
      "memory usage: 404.4+ KB\n"
     ]
    }
   ],
   "source": [
    "data.info()"
   ]
  },
  {
   "cell_type": "markdown",
   "id": "74f256ee",
   "metadata": {},
   "source": [
    "#### check the distribution shape again "
   ]
  },
  {
   "cell_type": "code",
   "execution_count": 304,
   "id": "b7678b94",
   "metadata": {},
   "outputs": [
    {
     "data": {
      "text/plain": [
       "<AxesSubplot:>"
      ]
     },
     "execution_count": 304,
     "metadata": {},
     "output_type": "execute_result"
    },
    {
     "data": {
      "image/png": "[encoded data removed]",
      "text/plain": [
       "<Figure size 432x288 with 1 Axes>"
      ]
     },
     "metadata": {
      "needs_background": "light"
     },
     "output_type": "display_data"
    }
   ],
   "source": [
    "data['pobc1'].hist()"
   ]
  },
  {
   "cell_type": "code",
   "execution_count": 305,
   "id": "e22ddd83",
   "metadata": {},
   "outputs": [
    {
     "data": {
      "text/plain": [
       "<AxesSubplot:>"
      ]
     },
     "execution_count": 305,
     "metadata": {},
     "output_type": "execute_result"
    },
    {
     "data": {
      "image/png": "[encoded data removed]",
      "text/plain": [
       "<Figure size 432x288 with 1 Axes>"
      ]
     },
     "metadata": {
      "needs_background": "light"
     },
     "output_type": "display_data"
    }
   ],
   "source": [
    "data[['pobc1']].boxplot()"
   ]
  },
  {
   "cell_type": "code",
   "execution_count": 306,
   "id": "b0219b83",
   "metadata": {},
   "outputs": [
    {
     "name": "stdout",
     "output_type": "stream",
     "text": [
      "<class 'pandas.core.frame.DataFrame'>\n",
      "RangeIndex: 3696 entries, 0 to 3695\n",
      "Data columns (total 14 columns):\n",
      " #   Column     Non-Null Count  Dtype  \n",
      "---  ------     --------------  -----  \n",
      " 0   state      3696 non-null   object \n",
      " 1   gender     3696 non-null   object \n",
      " 2   medianhv   3696 non-null   float64\n",
      " 3   ic1        3696 non-null   int64  \n",
      " 4   ic4        3696 non-null   float64\n",
      " 5   hvp1       3696 non-null   int64  \n",
      " 6   percapita  3696 non-null   float64\n",
      " 7   pobc1      3696 non-null   int64  \n",
      " 8   ic2        3696 non-null   float64\n",
      " 9   ic3        3696 non-null   int64  \n",
      " 10  avggift    3696 non-null   float64\n",
      " 11  dob        3696 non-null   int64  \n",
      " 12  domain     3696 non-null   object \n",
      " 13  target_d   3696 non-null   float64\n",
      "dtypes: float64(6), int64(5), object(3)\n",
      "memory usage: 404.4+ KB\n"
     ]
    }
   ],
   "source": [
    "data.info()\n",
    "# note we lost full rows when we dropped outliers "
   ]
  },
  {
   "cell_type": "markdown",
   "id": "078a6d97",
   "metadata": {},
   "source": [
    "### Correlation matrix - and multicollinearity check "
   ]
  },
  {
   "cell_type": "code",
   "execution_count": 307,
   "id": "549c8d50",
   "metadata": {},
   "outputs": [],
   "source": [
    "corre_matrix=data.corr() # will only work for numerical fields "
   ]
  },
  {
   "cell_type": "code",
   "execution_count": 308,
   "id": "43be0f4e",
   "metadata": {
    "scrolled": true
   },
   "outputs": [
    {
     "data": {
      "image/png": "[encoded data removed]",
      "text/plain": [
       "<Figure size 720x576 with 2 Axes>"
      ]
     },
     "metadata": {
      "needs_background": "light"
     },
     "output_type": "display_data"
    }
   ],
   "source": [
    "mask=np.zeros_like(corre_matrix)\n",
    "mask[np.triu_indices_from(mask)]=True\n",
    "fig,ax = plt.subplots(figsize=(10,8))\n",
    "ax=sns.heatmap(corre_matrix, mask=mask, center=0, cmap=sns.diverging_palette(220, 20, as_cmap=True), annot=True);"
   ]
  },
  {
   "cell_type": "code",
   "execution_count": 309,
   "id": "efc28771",
   "metadata": {},
   "outputs": [],
   "source": [
    "# do we drop any highly correlated columns now or columns we wont use? \n",
    "data=data.drop(['ic2','ic3','ic4','dob','pobc1'],axis=1)"
   ]
  },
  {
   "cell_type": "markdown",
   "id": "8774831c",
   "metadata": {},
   "source": [
    "## lets prepare to do some modeling now "
   ]
  },
  {
   "cell_type": "markdown",
   "id": "ba8a312b",
   "metadata": {},
   "source": [
    "### identify AND isolate target var"
   ]
  },
  {
   "cell_type": "code",
   "execution_count": 310,
   "id": "644204fc",
   "metadata": {},
   "outputs": [],
   "source": [
    "y = data['target_d']"
   ]
  },
  {
   "cell_type": "code",
   "execution_count": 311,
   "id": "8ca357ad",
   "metadata": {},
   "outputs": [
    {
     "name": "stdout",
     "output_type": "stream",
     "text": [
      "<class 'pandas.core.frame.DataFrame'>\n",
      "RangeIndex: 3696 entries, 0 to 3695\n",
      "Data columns (total 9 columns):\n",
      " #   Column     Non-Null Count  Dtype  \n",
      "---  ------     --------------  -----  \n",
      " 0   state      3696 non-null   object \n",
      " 1   gender     3696 non-null   object \n",
      " 2   medianhv   3696 non-null   float64\n",
      " 3   ic1        3696 non-null   int64  \n",
      " 4   hvp1       3696 non-null   int64  \n",
      " 5   percapita  3696 non-null   float64\n",
      " 6   avggift    3696 non-null   float64\n",
      " 7   domain     3696 non-null   object \n",
      " 8   target_d   3696 non-null   float64\n",
      "dtypes: float64(4), int64(2), object(3)\n",
      "memory usage: 260.0+ KB\n"
     ]
    }
   ],
   "source": [
    "data.info()"
   ]
  },
  {
   "cell_type": "markdown",
   "id": "cbba18f5",
   "metadata": {},
   "source": [
    "## pre processing \n",
    "\n",
    "- we need to split data into num and cat for pre processing "
   ]
  },
  {
   "cell_type": "code",
   "execution_count": 312,
   "id": "78d0cb4d",
   "metadata": {},
   "outputs": [],
   "source": [
    "X=data.drop(['target_d'], axis = 1) "
   ]
  },
  {
   "cell_type": "code",
   "execution_count": 313,
   "id": "ed30649b",
   "metadata": {},
   "outputs": [
    {
     "data": {
      "text/html": [
       "<div>\n",
       "<style scoped>\n",
       "    .dataframe tbody tr th:only-of-type {\n",
       "        vertical-align: middle;\n",
       "    }\n",
       "\n",
       "    .dataframe tbody tr th {\n",
       "        vertical-align: top;\n",
       "    }\n",
       "\n",
       "    .dataframe thead th {\n",
       "        text-align: right;\n",
       "    }\n",
       "</style>\n",
       "<table border=\"1\" class=\"dataframe\">\n",
       "  <thead>\n",
       "    <tr style=\"text-align: right;\">\n",
       "      <th></th>\n",
       "      <th>state</th>\n",
       "      <th>gender</th>\n",
       "      <th>medianhv</th>\n",
       "      <th>ic1</th>\n",
       "      <th>hvp1</th>\n",
       "      <th>percapita</th>\n",
       "      <th>avggift</th>\n",
       "      <th>domain</th>\n",
       "    </tr>\n",
       "  </thead>\n",
       "  <tbody>\n",
       "    <tr>\n",
       "      <th>0</th>\n",
       "      <td>IL</td>\n",
       "      <td>Male</td>\n",
       "      <td>537.0</td>\n",
       "      <td>365</td>\n",
       "      <td>0</td>\n",
       "      <td>19387.0</td>\n",
       "      <td>5.666667</td>\n",
       "      <td>T2</td>\n",
       "    </tr>\n",
       "  </tbody>\n",
       "</table>\n",
       "</div>"
      ],
      "text/plain": [
       "  state gender  medianhv  ic1  hvp1  percapita   avggift domain\n",
       "0    IL   Male     537.0  365     0    19387.0  5.666667     T2"
      ]
     },
     "execution_count": 313,
     "metadata": {},
     "output_type": "execute_result"
    }
   ],
   "source": [
    "X.head(1)"
   ]
  },
  {
   "cell_type": "code",
   "execution_count": 314,
   "id": "f142e4b8",
   "metadata": {},
   "outputs": [],
   "source": [
    "data_num=X.select_dtypes(include=np.number)"
   ]
  },
  {
   "cell_type": "code",
   "execution_count": 315,
   "id": "9c141262",
   "metadata": {},
   "outputs": [
    {
     "data": {
      "text/html": [
       "<div>\n",
       "<style scoped>\n",
       "    .dataframe tbody tr th:only-of-type {\n",
       "        vertical-align: middle;\n",
       "    }\n",
       "\n",
       "    .dataframe tbody tr th {\n",
       "        vertical-align: top;\n",
       "    }\n",
       "\n",
       "    .dataframe thead th {\n",
       "        text-align: right;\n",
       "    }\n",
       "</style>\n",
       "<table border=\"1\" class=\"dataframe\">\n",
       "  <thead>\n",
       "    <tr style=\"text-align: right;\">\n",
       "      <th></th>\n",
       "      <th>medianhv</th>\n",
       "      <th>ic1</th>\n",
       "      <th>hvp1</th>\n",
       "      <th>percapita</th>\n",
       "      <th>avggift</th>\n",
       "    </tr>\n",
       "  </thead>\n",
       "  <tbody>\n",
       "    <tr>\n",
       "      <th>0</th>\n",
       "      <td>537.0</td>\n",
       "      <td>365</td>\n",
       "      <td>0</td>\n",
       "      <td>19387.0</td>\n",
       "      <td>5.666667</td>\n",
       "    </tr>\n",
       "    <tr>\n",
       "      <th>1</th>\n",
       "      <td>725.0</td>\n",
       "      <td>301</td>\n",
       "      <td>3</td>\n",
       "      <td>18837.0</td>\n",
       "      <td>4.111111</td>\n",
       "    </tr>\n",
       "    <tr>\n",
       "      <th>2</th>\n",
       "      <td>995.0</td>\n",
       "      <td>252</td>\n",
       "      <td>0</td>\n",
       "      <td>17991.0</td>\n",
       "      <td>6.000000</td>\n",
       "    </tr>\n",
       "    <tr>\n",
       "      <th>3</th>\n",
       "      <td>764.0</td>\n",
       "      <td>457</td>\n",
       "      <td>1</td>\n",
       "      <td>16022.0</td>\n",
       "      <td>25.571429</td>\n",
       "    </tr>\n",
       "    <tr>\n",
       "      <th>4</th>\n",
       "      <td>775.0</td>\n",
       "      <td>318</td>\n",
       "      <td>5</td>\n",
       "      <td>13491.0</td>\n",
       "      <td>4.625000</td>\n",
       "    </tr>\n",
       "    <tr>\n",
       "      <th>...</th>\n",
       "      <td>...</td>\n",
       "      <td>...</td>\n",
       "      <td>...</td>\n",
       "      <td>...</td>\n",
       "      <td>...</td>\n",
       "    </tr>\n",
       "    <tr>\n",
       "      <th>3691</th>\n",
       "      <td>726.0</td>\n",
       "      <td>485</td>\n",
       "      <td>0</td>\n",
       "      <td>17020.0</td>\n",
       "      <td>17.225806</td>\n",
       "    </tr>\n",
       "    <tr>\n",
       "      <th>3692</th>\n",
       "      <td>675.0</td>\n",
       "      <td>163</td>\n",
       "      <td>1</td>\n",
       "      <td>7083.0</td>\n",
       "      <td>7.562500</td>\n",
       "    </tr>\n",
       "    <tr>\n",
       "      <th>3693</th>\n",
       "      <td>632.0</td>\n",
       "      <td>279</td>\n",
       "      <td>2</td>\n",
       "      <td>12653.0</td>\n",
       "      <td>8.533333</td>\n",
       "    </tr>\n",
       "    <tr>\n",
       "      <th>3694</th>\n",
       "      <td>595.0</td>\n",
       "      <td>252</td>\n",
       "      <td>0</td>\n",
       "      <td>11132.0</td>\n",
       "      <td>14.692308</td>\n",
       "    </tr>\n",
       "    <tr>\n",
       "      <th>3695</th>\n",
       "      <td>444.0</td>\n",
       "      <td>225</td>\n",
       "      <td>3</td>\n",
       "      <td>10088.0</td>\n",
       "      <td>17.142857</td>\n",
       "    </tr>\n",
       "  </tbody>\n",
       "</table>\n",
       "<p>3696 rows × 5 columns</p>\n",
       "</div>"
      ],
      "text/plain": [
       "      medianhv  ic1  hvp1  percapita    avggift\n",
       "0        537.0  365     0    19387.0   5.666667\n",
       "1        725.0  301     3    18837.0   4.111111\n",
       "2        995.0  252     0    17991.0   6.000000\n",
       "3        764.0  457     1    16022.0  25.571429\n",
       "4        775.0  318     5    13491.0   4.625000\n",
       "...        ...  ...   ...        ...        ...\n",
       "3691     726.0  485     0    17020.0  17.225806\n",
       "3692     675.0  163     1     7083.0   7.562500\n",
       "3693     632.0  279     2    12653.0   8.533333\n",
       "3694     595.0  252     0    11132.0  14.692308\n",
       "3695     444.0  225     3    10088.0  17.142857\n",
       "\n",
       "[3696 rows x 5 columns]"
      ]
     },
     "execution_count": 315,
     "metadata": {},
     "output_type": "execute_result"
    }
   ],
   "source": [
    "data_num"
   ]
  },
  {
   "cell_type": "code",
   "execution_count": 316,
   "id": "b5fd0ee9",
   "metadata": {},
   "outputs": [],
   "source": [
    "data_cat=X.select_dtypes(include=object)"
   ]
  },
  {
   "cell_type": "code",
   "execution_count": 317,
   "id": "24d480e3",
   "metadata": {},
   "outputs": [
    {
     "data": {
      "text/html": [
       "<div>\n",
       "<style scoped>\n",
       "    .dataframe tbody tr th:only-of-type {\n",
       "        vertical-align: middle;\n",
       "    }\n",
       "\n",
       "    .dataframe tbody tr th {\n",
       "        vertical-align: top;\n",
       "    }\n",
       "\n",
       "    .dataframe thead th {\n",
       "        text-align: right;\n",
       "    }\n",
       "</style>\n",
       "<table border=\"1\" class=\"dataframe\">\n",
       "  <thead>\n",
       "    <tr style=\"text-align: right;\">\n",
       "      <th></th>\n",
       "      <th>state</th>\n",
       "      <th>gender</th>\n",
       "      <th>domain</th>\n",
       "    </tr>\n",
       "  </thead>\n",
       "  <tbody>\n",
       "    <tr>\n",
       "      <th>0</th>\n",
       "      <td>IL</td>\n",
       "      <td>Male</td>\n",
       "      <td>T2</td>\n",
       "    </tr>\n",
       "    <tr>\n",
       "      <th>1</th>\n",
       "      <td>FL</td>\n",
       "      <td>Female</td>\n",
       "      <td>C2</td>\n",
       "    </tr>\n",
       "    <tr>\n",
       "      <th>2</th>\n",
       "      <td>FL</td>\n",
       "      <td>Female</td>\n",
       "      <td>C2</td>\n",
       "    </tr>\n",
       "    <tr>\n",
       "      <th>3</th>\n",
       "      <td>IL</td>\n",
       "      <td>Male</td>\n",
       "      <td>S2</td>\n",
       "    </tr>\n",
       "    <tr>\n",
       "      <th>4</th>\n",
       "      <td>NC</td>\n",
       "      <td>Female</td>\n",
       "      <td>R2</td>\n",
       "    </tr>\n",
       "    <tr>\n",
       "      <th>...</th>\n",
       "      <td>...</td>\n",
       "      <td>...</td>\n",
       "      <td>...</td>\n",
       "    </tr>\n",
       "    <tr>\n",
       "      <th>3691</th>\n",
       "      <td>MI</td>\n",
       "      <td>Male</td>\n",
       "      <td>T1</td>\n",
       "    </tr>\n",
       "    <tr>\n",
       "      <th>3692</th>\n",
       "      <td>CA</td>\n",
       "      <td>Male</td>\n",
       "      <td>C3</td>\n",
       "    </tr>\n",
       "    <tr>\n",
       "      <th>3693</th>\n",
       "      <td>MI</td>\n",
       "      <td>Female</td>\n",
       "      <td>0</td>\n",
       "    </tr>\n",
       "    <tr>\n",
       "      <th>3694</th>\n",
       "      <td>FL</td>\n",
       "      <td>Male</td>\n",
       "      <td>T2</td>\n",
       "    </tr>\n",
       "    <tr>\n",
       "      <th>3695</th>\n",
       "      <td>MI</td>\n",
       "      <td>Male</td>\n",
       "      <td>R2</td>\n",
       "    </tr>\n",
       "  </tbody>\n",
       "</table>\n",
       "<p>3696 rows × 3 columns</p>\n",
       "</div>"
      ],
      "text/plain": [
       "     state  gender domain\n",
       "0       IL    Male     T2\n",
       "1       FL  Female     C2\n",
       "2       FL  Female     C2\n",
       "3       IL    Male     S2\n",
       "4       NC  Female     R2\n",
       "...    ...     ...    ...\n",
       "3691    MI    Male     T1\n",
       "3692    CA    Male     C3\n",
       "3693    MI  Female      0\n",
       "3694    FL    Male     T2\n",
       "3695    MI    Male     R2\n",
       "\n",
       "[3696 rows x 3 columns]"
      ]
     },
     "execution_count": 317,
     "metadata": {},
     "output_type": "execute_result"
    }
   ],
   "source": [
    "data_cat"
   ]
  },
  {
   "cell_type": "markdown",
   "id": "1290a9ed",
   "metadata": {},
   "source": [
    "### options - scale numeric variables, encode categoricals"
   ]
  },
  {
   "cell_type": "markdown",
   "id": "7281d9fd",
   "metadata": {},
   "source": [
    "#### First, scaling numericals "
   ]
  },
  {
   "cell_type": "code",
   "execution_count": 318,
   "id": "919b68ae",
   "metadata": {},
   "outputs": [
    {
     "data": {
      "image/png": "[encoded data removed]",
      "text/plain": [
       "<Figure size 1080x1080 with 9 Axes>"
      ]
     },
     "metadata": {
      "needs_background": "light"
     },
     "output_type": "display_data"
    }
   ],
   "source": [
    "data_num.hist(figsize=(15,15), bins=50, layout=(3,3));"
   ]
  },
  {
   "cell_type": "code",
   "execution_count": 319,
   "id": "d6f8ba23",
   "metadata": {},
   "outputs": [],
   "source": [
    "from sklearn.preprocessing import StandardScaler\n",
    "scaler = StandardScaler()\n",
    "scaler.fit(data_num)\n",
    "StandardScaler()\n",
    "scaled=scaler.transform(data_num)"
   ]
  },
  {
   "cell_type": "code",
   "execution_count": 320,
   "id": "91716540",
   "metadata": {},
   "outputs": [
    {
     "data": {
      "text/html": [
       "<div>\n",
       "<style scoped>\n",
       "    .dataframe tbody tr th:only-of-type {\n",
       "        vertical-align: middle;\n",
       "    }\n",
       "\n",
       "    .dataframe tbody tr th {\n",
       "        vertical-align: top;\n",
       "    }\n",
       "\n",
       "    .dataframe thead th {\n",
       "        text-align: right;\n",
       "    }\n",
       "</style>\n",
       "<table border=\"1\" class=\"dataframe\">\n",
       "  <thead>\n",
       "    <tr style=\"text-align: right;\">\n",
       "      <th></th>\n",
       "      <th>medianhv</th>\n",
       "      <th>ic1</th>\n",
       "      <th>hvp1</th>\n",
       "      <th>percapita</th>\n",
       "      <th>avggift</th>\n",
       "    </tr>\n",
       "  </thead>\n",
       "  <tbody>\n",
       "    <tr>\n",
       "      <th>0</th>\n",
       "      <td>-0.565375</td>\n",
       "      <td>0.091385</td>\n",
       "      <td>-0.514711</td>\n",
       "      <td>0.329516</td>\n",
       "      <td>-0.597134</td>\n",
       "    </tr>\n",
       "    <tr>\n",
       "      <th>1</th>\n",
       "      <td>-0.371568</td>\n",
       "      <td>-0.296474</td>\n",
       "      <td>-0.403172</td>\n",
       "      <td>0.269453</td>\n",
       "      <td>-0.751712</td>\n",
       "    </tr>\n",
       "    <tr>\n",
       "      <th>2</th>\n",
       "      <td>-0.093228</td>\n",
       "      <td>-0.593429</td>\n",
       "      <td>-0.514711</td>\n",
       "      <td>0.177067</td>\n",
       "      <td>-0.564010</td>\n",
       "    </tr>\n",
       "    <tr>\n",
       "      <th>3</th>\n",
       "      <td>-0.331364</td>\n",
       "      <td>0.648932</td>\n",
       "      <td>-0.477531</td>\n",
       "      <td>-0.037956</td>\n",
       "      <td>1.380834</td>\n",
       "    </tr>\n",
       "    <tr>\n",
       "      <th>4</th>\n",
       "      <td>-0.320024</td>\n",
       "      <td>-0.193449</td>\n",
       "      <td>-0.328813</td>\n",
       "      <td>-0.314352</td>\n",
       "      <td>-0.700646</td>\n",
       "    </tr>\n",
       "    <tr>\n",
       "      <th>...</th>\n",
       "      <td>...</td>\n",
       "      <td>...</td>\n",
       "      <td>...</td>\n",
       "      <td>...</td>\n",
       "      <td>...</td>\n",
       "    </tr>\n",
       "    <tr>\n",
       "      <th>3691</th>\n",
       "      <td>-0.370538</td>\n",
       "      <td>0.818620</td>\n",
       "      <td>-0.514711</td>\n",
       "      <td>0.071029</td>\n",
       "      <td>0.551517</td>\n",
       "    </tr>\n",
       "    <tr>\n",
       "      <th>3692</th>\n",
       "      <td>-0.423113</td>\n",
       "      <td>-1.132795</td>\n",
       "      <td>-0.477531</td>\n",
       "      <td>-1.014132</td>\n",
       "      <td>-0.408742</td>\n",
       "    </tr>\n",
       "    <tr>\n",
       "      <th>3693</th>\n",
       "      <td>-0.467441</td>\n",
       "      <td>-0.429801</td>\n",
       "      <td>-0.440352</td>\n",
       "      <td>-0.405865</td>\n",
       "      <td>-0.312268</td>\n",
       "    </tr>\n",
       "    <tr>\n",
       "      <th>3694</th>\n",
       "      <td>-0.505584</td>\n",
       "      <td>-0.593429</td>\n",
       "      <td>-0.514711</td>\n",
       "      <td>-0.571965</td>\n",
       "      <td>0.299759</td>\n",
       "    </tr>\n",
       "    <tr>\n",
       "      <th>3695</th>\n",
       "      <td>-0.661248</td>\n",
       "      <td>-0.757057</td>\n",
       "      <td>-0.403172</td>\n",
       "      <td>-0.685974</td>\n",
       "      <td>0.543274</td>\n",
       "    </tr>\n",
       "  </tbody>\n",
       "</table>\n",
       "<p>3696 rows × 5 columns</p>\n",
       "</div>"
      ],
      "text/plain": [
       "      medianhv       ic1      hvp1  percapita   avggift\n",
       "0    -0.565375  0.091385 -0.514711   0.329516 -0.597134\n",
       "1    -0.371568 -0.296474 -0.403172   0.269453 -0.751712\n",
       "2    -0.093228 -0.593429 -0.514711   0.177067 -0.564010\n",
       "3    -0.331364  0.648932 -0.477531  -0.037956  1.380834\n",
       "4    -0.320024 -0.193449 -0.328813  -0.314352 -0.700646\n",
       "...        ...       ...       ...        ...       ...\n",
       "3691 -0.370538  0.818620 -0.514711   0.071029  0.551517\n",
       "3692 -0.423113 -1.132795 -0.477531  -1.014132 -0.408742\n",
       "3693 -0.467441 -0.429801 -0.440352  -0.405865 -0.312268\n",
       "3694 -0.505584 -0.593429 -0.514711  -0.571965  0.299759\n",
       "3695 -0.661248 -0.757057 -0.403172  -0.685974  0.543274\n",
       "\n",
       "[3696 rows x 5 columns]"
      ]
     },
     "execution_count": 320,
     "metadata": {},
     "output_type": "execute_result"
    }
   ],
   "source": [
    "scaleddf=pd.DataFrame(scaled, columns=data_num.columns)\n",
    "scaleddf"
   ]
  },
  {
   "cell_type": "code",
   "execution_count": 321,
   "id": "e37c8282",
   "metadata": {},
   "outputs": [
    {
     "data": {
      "image/png": "[encoded data removed]",
      "text/plain": [
       "<Figure size 1080x1080 with 9 Axes>"
      ]
     },
     "metadata": {
      "needs_background": "light"
     },
     "output_type": "display_data"
    }
   ],
   "source": [
    "# replot after scaling \n",
    "scaleddf.hist(figsize=(15,15), bins=50, layout=(3,3));"
   ]
  },
  {
   "cell_type": "code",
   "execution_count": 322,
   "id": "2913a365",
   "metadata": {},
   "outputs": [],
   "source": [
    "from sklearn.preprocessing import MinMaxScaler\n",
    "scaleddf['avggift']=MinMaxScaler().fit_transform(scaleddf['avggift'].values.reshape(-1, 1))"
   ]
  },
  {
   "cell_type": "code",
   "execution_count": 323,
   "id": "106e07cb",
   "metadata": {},
   "outputs": [
    {
     "data": {
      "text/plain": [
       "<AxesSubplot:>"
      ]
     },
     "execution_count": 323,
     "metadata": {},
     "output_type": "execute_result"
    },
    {
     "data": {
      "image/png": "[encoded data removed]",
      "text/plain": [
       "<Figure size 432x288 with 1 Axes>"
      ]
     },
     "metadata": {
      "needs_background": "light"
     },
     "output_type": "display_data"
    }
   ],
   "source": [
    "scaleddf['avggift'].hist()"
   ]
  },
  {
   "cell_type": "markdown",
   "id": "a6b20727",
   "metadata": {},
   "source": [
    "#### Next, encode the categories"
   ]
  },
  {
   "cell_type": "code",
   "execution_count": 324,
   "id": "07e41479",
   "metadata": {},
   "outputs": [],
   "source": [
    "X_dummies=pd.get_dummies(data_cat, drop_first=True)"
   ]
  },
  {
   "cell_type": "code",
   "execution_count": 325,
   "id": "71e57b47",
   "metadata": {},
   "outputs": [
    {
     "data": {
      "text/plain": [
       "(3696, 66)"
      ]
     },
     "execution_count": 325,
     "metadata": {},
     "output_type": "execute_result"
    }
   ],
   "source": [
    "X_dummies.shape"
   ]
  },
  {
   "cell_type": "code",
   "execution_count": 326,
   "id": "e7796215",
   "metadata": {},
   "outputs": [
    {
     "name": "stdout",
     "output_type": "stream",
     "text": [
      "<class 'pandas.core.frame.DataFrame'>\n",
      "RangeIndex: 3696 entries, 0 to 3695\n",
      "Data columns (total 66 columns):\n",
      " #   Column          Non-Null Count  Dtype\n",
      "---  ------          --------------  -----\n",
      " 0   state_AE        3696 non-null   uint8\n",
      " 1   state_AK        3696 non-null   uint8\n",
      " 2   state_AL        3696 non-null   uint8\n",
      " 3   state_AP        3696 non-null   uint8\n",
      " 4   state_AR        3696 non-null   uint8\n",
      " 5   state_AZ        3696 non-null   uint8\n",
      " 6   state_CA        3696 non-null   uint8\n",
      " 7   state_CO        3696 non-null   uint8\n",
      " 8   state_CT        3696 non-null   uint8\n",
      " 9   state_FL        3696 non-null   uint8\n",
      " 10  state_GA        3696 non-null   uint8\n",
      " 11  state_GU        3696 non-null   uint8\n",
      " 12  state_HI        3696 non-null   uint8\n",
      " 13  state_IA        3696 non-null   uint8\n",
      " 14  state_ID        3696 non-null   uint8\n",
      " 15  state_IL        3696 non-null   uint8\n",
      " 16  state_IN        3696 non-null   uint8\n",
      " 17  state_KS        3696 non-null   uint8\n",
      " 18  state_KY        3696 non-null   uint8\n",
      " 19  state_LA        3696 non-null   uint8\n",
      " 20  state_MD        3696 non-null   uint8\n",
      " 21  state_MI        3696 non-null   uint8\n",
      " 22  state_MN        3696 non-null   uint8\n",
      " 23  state_MO        3696 non-null   uint8\n",
      " 24  state_MS        3696 non-null   uint8\n",
      " 25  state_MT        3696 non-null   uint8\n",
      " 26  state_NC        3696 non-null   uint8\n",
      " 27  state_ND        3696 non-null   uint8\n",
      " 28  state_NE        3696 non-null   uint8\n",
      " 29  state_NJ        3696 non-null   uint8\n",
      " 30  state_NM        3696 non-null   uint8\n",
      " 31  state_NV        3696 non-null   uint8\n",
      " 32  state_NY        3696 non-null   uint8\n",
      " 33  state_OK        3696 non-null   uint8\n",
      " 34  state_OR        3696 non-null   uint8\n",
      " 35  state_PA        3696 non-null   uint8\n",
      " 36  state_SC        3696 non-null   uint8\n",
      " 37  state_SD        3696 non-null   uint8\n",
      " 38  state_TN        3696 non-null   uint8\n",
      " 39  state_TX        3696 non-null   uint8\n",
      " 40  state_UT        3696 non-null   uint8\n",
      " 41  state_VA        3696 non-null   uint8\n",
      " 42  state_VT        3696 non-null   uint8\n",
      " 43  state_WA        3696 non-null   uint8\n",
      " 44  state_WI        3696 non-null   uint8\n",
      " 45  state_WV        3696 non-null   uint8\n",
      " 46  state_WY        3696 non-null   uint8\n",
      " 47  gender_Male     3696 non-null   uint8\n",
      " 48  gender_Unknown  3696 non-null   uint8\n",
      " 49  domain_0        3696 non-null   uint8\n",
      " 50  domain_C1       3696 non-null   uint8\n",
      " 51  domain_C2       3696 non-null   uint8\n",
      " 52  domain_C3       3696 non-null   uint8\n",
      " 53  domain_R1       3696 non-null   uint8\n",
      " 54  domain_R2       3696 non-null   uint8\n",
      " 55  domain_R3       3696 non-null   uint8\n",
      " 56  domain_S1       3696 non-null   uint8\n",
      " 57  domain_S2       3696 non-null   uint8\n",
      " 58  domain_S3       3696 non-null   uint8\n",
      " 59  domain_T1       3696 non-null   uint8\n",
      " 60  domain_T2       3696 non-null   uint8\n",
      " 61  domain_T3       3696 non-null   uint8\n",
      " 62  domain_U1       3696 non-null   uint8\n",
      " 63  domain_U2       3696 non-null   uint8\n",
      " 64  domain_U3       3696 non-null   uint8\n",
      " 65  domain_U4       3696 non-null   uint8\n",
      "dtypes: uint8(66)\n",
      "memory usage: 238.3 KB\n"
     ]
    }
   ],
   "source": [
    "X_dummies.info()"
   ]
  },
  {
   "cell_type": "markdown",
   "id": "a333b678",
   "metadata": {},
   "source": [
    "## Join the data frames back together "
   ]
  },
  {
   "cell_type": "code",
   "execution_count": 327,
   "id": "e8efd1f4",
   "metadata": {},
   "outputs": [
    {
     "data": {
      "text/html": [
       "<div>\n",
       "<style scoped>\n",
       "    .dataframe tbody tr th:only-of-type {\n",
       "        vertical-align: middle;\n",
       "    }\n",
       "\n",
       "    .dataframe tbody tr th {\n",
       "        vertical-align: top;\n",
       "    }\n",
       "\n",
       "    .dataframe thead th {\n",
       "        text-align: right;\n",
       "    }\n",
       "</style>\n",
       "<table border=\"1\" class=\"dataframe\">\n",
       "  <thead>\n",
       "    <tr style=\"text-align: right;\">\n",
       "      <th></th>\n",
       "      <th>state_AE</th>\n",
       "      <th>state_AK</th>\n",
       "      <th>state_AL</th>\n",
       "      <th>state_AP</th>\n",
       "      <th>state_AR</th>\n",
       "      <th>state_AZ</th>\n",
       "      <th>state_CA</th>\n",
       "      <th>state_CO</th>\n",
       "      <th>state_CT</th>\n",
       "      <th>state_FL</th>\n",
       "      <th>...</th>\n",
       "      <th>domain_T3</th>\n",
       "      <th>domain_U1</th>\n",
       "      <th>domain_U2</th>\n",
       "      <th>domain_U3</th>\n",
       "      <th>domain_U4</th>\n",
       "      <th>medianhv</th>\n",
       "      <th>ic1</th>\n",
       "      <th>hvp1</th>\n",
       "      <th>percapita</th>\n",
       "      <th>avggift</th>\n",
       "    </tr>\n",
       "  </thead>\n",
       "  <tbody>\n",
       "    <tr>\n",
       "      <th>0</th>\n",
       "      <td>0</td>\n",
       "      <td>0</td>\n",
       "      <td>0</td>\n",
       "      <td>0</td>\n",
       "      <td>0</td>\n",
       "      <td>0</td>\n",
       "      <td>0</td>\n",
       "      <td>0</td>\n",
       "      <td>0</td>\n",
       "      <td>0</td>\n",
       "      <td>...</td>\n",
       "      <td>0</td>\n",
       "      <td>0</td>\n",
       "      <td>0</td>\n",
       "      <td>0</td>\n",
       "      <td>0</td>\n",
       "      <td>-0.565375</td>\n",
       "      <td>0.091385</td>\n",
       "      <td>-0.514711</td>\n",
       "      <td>0.329516</td>\n",
       "      <td>0.007607</td>\n",
       "    </tr>\n",
       "    <tr>\n",
       "      <th>1</th>\n",
       "      <td>0</td>\n",
       "      <td>0</td>\n",
       "      <td>0</td>\n",
       "      <td>0</td>\n",
       "      <td>0</td>\n",
       "      <td>0</td>\n",
       "      <td>0</td>\n",
       "      <td>0</td>\n",
       "      <td>0</td>\n",
       "      <td>1</td>\n",
       "      <td>...</td>\n",
       "      <td>0</td>\n",
       "      <td>0</td>\n",
       "      <td>0</td>\n",
       "      <td>0</td>\n",
       "      <td>0</td>\n",
       "      <td>-0.371568</td>\n",
       "      <td>-0.296474</td>\n",
       "      <td>-0.403172</td>\n",
       "      <td>0.269453</td>\n",
       "      <td>0.004132</td>\n",
       "    </tr>\n",
       "    <tr>\n",
       "      <th>2</th>\n",
       "      <td>0</td>\n",
       "      <td>0</td>\n",
       "      <td>0</td>\n",
       "      <td>0</td>\n",
       "      <td>0</td>\n",
       "      <td>0</td>\n",
       "      <td>0</td>\n",
       "      <td>0</td>\n",
       "      <td>0</td>\n",
       "      <td>1</td>\n",
       "      <td>...</td>\n",
       "      <td>0</td>\n",
       "      <td>0</td>\n",
       "      <td>0</td>\n",
       "      <td>0</td>\n",
       "      <td>0</td>\n",
       "      <td>-0.093228</td>\n",
       "      <td>-0.593429</td>\n",
       "      <td>-0.514711</td>\n",
       "      <td>0.177067</td>\n",
       "      <td>0.008351</td>\n",
       "    </tr>\n",
       "    <tr>\n",
       "      <th>3</th>\n",
       "      <td>0</td>\n",
       "      <td>0</td>\n",
       "      <td>0</td>\n",
       "      <td>0</td>\n",
       "      <td>0</td>\n",
       "      <td>0</td>\n",
       "      <td>0</td>\n",
       "      <td>0</td>\n",
       "      <td>0</td>\n",
       "      <td>0</td>\n",
       "      <td>...</td>\n",
       "      <td>0</td>\n",
       "      <td>0</td>\n",
       "      <td>0</td>\n",
       "      <td>0</td>\n",
       "      <td>0</td>\n",
       "      <td>-0.331364</td>\n",
       "      <td>0.648932</td>\n",
       "      <td>-0.477531</td>\n",
       "      <td>-0.037956</td>\n",
       "      <td>0.052063</td>\n",
       "    </tr>\n",
       "    <tr>\n",
       "      <th>4</th>\n",
       "      <td>0</td>\n",
       "      <td>0</td>\n",
       "      <td>0</td>\n",
       "      <td>0</td>\n",
       "      <td>0</td>\n",
       "      <td>0</td>\n",
       "      <td>0</td>\n",
       "      <td>0</td>\n",
       "      <td>0</td>\n",
       "      <td>0</td>\n",
       "      <td>...</td>\n",
       "      <td>0</td>\n",
       "      <td>0</td>\n",
       "      <td>0</td>\n",
       "      <td>0</td>\n",
       "      <td>0</td>\n",
       "      <td>-0.320024</td>\n",
       "      <td>-0.193449</td>\n",
       "      <td>-0.328813</td>\n",
       "      <td>-0.314352</td>\n",
       "      <td>0.005280</td>\n",
       "    </tr>\n",
       "  </tbody>\n",
       "</table>\n",
       "<p>5 rows × 71 columns</p>\n",
       "</div>"
      ],
      "text/plain": [
       "   state_AE  state_AK  state_AL  state_AP  state_AR  state_AZ  state_CA  \\\n",
       "0         0         0         0         0         0         0         0   \n",
       "1         0         0         0         0         0         0         0   \n",
       "2         0         0         0         0         0         0         0   \n",
       "3         0         0         0         0         0         0         0   \n",
       "4         0         0         0         0         0         0         0   \n",
       "\n",
       "   state_CO  state_CT  state_FL  ...  domain_T3  domain_U1  domain_U2  \\\n",
       "0         0         0         0  ...          0          0          0   \n",
       "1         0         0         1  ...          0          0          0   \n",
       "2         0         0         1  ...          0          0          0   \n",
       "3         0         0         0  ...          0          0          0   \n",
       "4         0         0         0  ...          0          0          0   \n",
       "\n",
       "   domain_U3  domain_U4  medianhv       ic1      hvp1  percapita   avggift  \n",
       "0          0          0 -0.565375  0.091385 -0.514711   0.329516  0.007607  \n",
       "1          0          0 -0.371568 -0.296474 -0.403172   0.269453  0.004132  \n",
       "2          0          0 -0.093228 -0.593429 -0.514711   0.177067  0.008351  \n",
       "3          0          0 -0.331364  0.648932 -0.477531  -0.037956  0.052063  \n",
       "4          0          0 -0.320024 -0.193449 -0.328813  -0.314352  0.005280  \n",
       "\n",
       "[5 rows x 71 columns]"
      ]
     },
     "execution_count": 327,
     "metadata": {},
     "output_type": "execute_result"
    }
   ],
   "source": [
    "X_full=pd.concat([X_dummies,scaleddf],axis=1)\n",
    "X_full.head()"
   ]
  },
  {
   "cell_type": "markdown",
   "id": "75cf7ff5",
   "metadata": {},
   "source": [
    "# import  and apply model "
   ]
  },
  {
   "cell_type": "markdown",
   "id": "bb6a2eca",
   "metadata": {},
   "source": [
    "## train test split "
   ]
  },
  {
   "cell_type": "code",
   "execution_count": 328,
   "id": "5df99e52",
   "metadata": {},
   "outputs": [
    {
     "data": {
      "text/plain": [
       "(3696, 71)"
      ]
     },
     "execution_count": 328,
     "metadata": {},
     "output_type": "execute_result"
    }
   ],
   "source": [
    "X_full.shape"
   ]
  },
  {
   "cell_type": "code",
   "execution_count": 329,
   "id": "c6a41a3e",
   "metadata": {},
   "outputs": [
    {
     "data": {
      "text/plain": [
       "(3696,)"
      ]
     },
     "execution_count": 329,
     "metadata": {},
     "output_type": "execute_result"
    }
   ],
   "source": [
    "y.shape"
   ]
  },
  {
   "cell_type": "code",
   "execution_count": 330,
   "id": "24d45217",
   "metadata": {},
   "outputs": [],
   "source": [
    "# train test split \n",
    "from sklearn.model_selection import train_test_split\n",
    "X_train,X_test,y_train,y_test=train_test_split(X_full,y, test_size=0.4, random_state=40)\n"
   ]
  },
  {
   "cell_type": "code",
   "execution_count": 331,
   "id": "f07fb011",
   "metadata": {},
   "outputs": [
    {
     "data": {
      "text/plain": [
       "(2217, 71)"
      ]
     },
     "execution_count": 331,
     "metadata": {},
     "output_type": "execute_result"
    }
   ],
   "source": [
    "X_train.shape"
   ]
  },
  {
   "cell_type": "code",
   "execution_count": 332,
   "id": "90ffc317",
   "metadata": {},
   "outputs": [
    {
     "data": {
      "text/plain": [
       "(2217,)"
      ]
     },
     "execution_count": 332,
     "metadata": {},
     "output_type": "execute_result"
    }
   ],
   "source": [
    "y_train.shape"
   ]
  },
  {
   "cell_type": "code",
   "execution_count": 333,
   "id": "d062f8b5",
   "metadata": {},
   "outputs": [
    {
     "data": {
      "text/plain": [
       "(1479, 71)"
      ]
     },
     "execution_count": 333,
     "metadata": {},
     "output_type": "execute_result"
    }
   ],
   "source": [
    "X_test.shape"
   ]
  },
  {
   "cell_type": "code",
   "execution_count": 334,
   "id": "b13ea1bd",
   "metadata": {},
   "outputs": [
    {
     "data": {
      "text/plain": [
       "(1479,)"
      ]
     },
     "execution_count": 334,
     "metadata": {},
     "output_type": "execute_result"
    }
   ],
   "source": [
    "y_test.shape"
   ]
  },
  {
   "cell_type": "markdown",
   "id": "97b9198f",
   "metadata": {},
   "source": [
    "## model"
   ]
  },
  {
   "cell_type": "code",
   "execution_count": 335,
   "id": "0a744ba8",
   "metadata": {},
   "outputs": [],
   "source": [
    "# get the model and the metrics \n",
    "from sklearn import linear_model \n",
    "from sklearn.metrics import r2_score, mean_squared_error, mean_absolute_error"
   ]
  },
  {
   "cell_type": "code",
   "execution_count": 336,
   "id": "06ccf37d",
   "metadata": {},
   "outputs": [],
   "source": [
    "# candidate 1 model \n",
    "\n",
    "lm=linear_model.LinearRegression()"
   ]
  },
  {
   "cell_type": "code",
   "execution_count": 337,
   "id": "b1c98bb2",
   "metadata": {},
   "outputs": [],
   "source": [
    "#set up model and train it \n",
    "model=lm.fit(X_train,y_train)\n",
    "#get the predictions on X test \n",
    "predictions=lm.predict(X_test)"
   ]
  },
  {
   "cell_type": "code",
   "execution_count": 338,
   "id": "64b77b93",
   "metadata": {},
   "outputs": [
    {
     "data": {
      "text/plain": [
       "array([25.99685591, 24.23574711, 11.61573851, ..., 15.6785587 ,\n",
       "       11.66491202,  5.84162595])"
      ]
     },
     "execution_count": 338,
     "metadata": {},
     "output_type": "execute_result"
    }
   ],
   "source": [
    "predictions"
   ]
  },
  {
   "cell_type": "code",
   "execution_count": 339,
   "id": "ba71696d",
   "metadata": {},
   "outputs": [
    {
     "data": {
      "text/plain": [
       "-1.8859684792442361e+22"
      ]
     },
     "execution_count": 339,
     "metadata": {},
     "output_type": "execute_result"
    }
   ],
   "source": [
    "#evaluate how good our predictions are \n",
    "r2_score(y_test,predictions)\n",
    "# this is how much of the variation the model explains"
   ]
  },
  {
   "cell_type": "code",
   "execution_count": 340,
   "id": "0f82137e",
   "metadata": {},
   "outputs": [
    {
     "data": {
      "text/plain": [
       "3.543411082256214e+24"
      ]
     },
     "execution_count": 340,
     "metadata": {},
     "output_type": "execute_result"
    }
   ],
   "source": [
    "mean_squared_error(y_test,predictions)\n",
    "#this is how accurate we can be in monetary terms "
   ]
  },
  {
   "cell_type": "code",
   "execution_count": 341,
   "id": "2a4d8a1f",
   "metadata": {},
   "outputs": [
    {
     "data": {
      "text/plain": [
       "95462344377.80502"
      ]
     },
     "execution_count": 341,
     "metadata": {},
     "output_type": "execute_result"
    }
   ],
   "source": [
    "mean_absolute_error(y_test,predictions)"
   ]
  },
  {
   "cell_type": "markdown",
   "id": "ac3bb9ce",
   "metadata": {},
   "source": [
    "## summarise what we have for this candidate"
   ]
  },
  {
   "cell_type": "markdown",
   "id": "fe4af0bf",
   "metadata": {},
   "source": [
    "+ I am able to predict accurately the donation amount +/- 62$"
   ]
  }
 ],
 "metadata": {
  "kernelspec": {
   "display_name": "Python 3 (ipykernel)",
   "language": "python",
   "name": "python3"
  },
  "language_info": {
   "codemirror_mode": {
    "name": "ipython",
    "version": 3
   },
   "file_extension": ".py",
   "mimetype": "text/x-python",
   "name": "python",
   "nbconvert_exporter": "python",
   "pygments_lexer": "ipython3",
   "version": "3.9.7"
  },
  "toc": {
   "base_numbering": 1,
   "nav_menu": {},
   "number_sections": true,
   "sideBar": true,
   "skip_h1_title": false,
   "title_cell": "Table of Contents",
   "title_sidebar": "Contents",
   "toc_cell": false,
   "toc_position": {
    "height": "calc(100% - 180px)",
    "left": "10px",
    "top": "150px",
    "width": "288px"
   },
   "toc_section_display": true,
   "toc_window_display": true
  }
 },
 "nbformat": 4,
 "nbformat_minor": 5
}
